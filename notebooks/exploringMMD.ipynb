{
 "cells": [
  {
   "cell_type": "code",
   "execution_count": 1,
   "metadata": {
    "collapsed": true
   },
   "outputs": [],
   "source": [
    "from __future__ import print_function\n",
    "\n",
    "import numpy as np\n",
    "import mmd"
   ]
  },
  {
   "cell_type": "markdown",
   "metadata": {},
   "source": [
    "This follows Dougal's example from: https://github.com/dougalsutherland/mmd/blob/master/examples/mmd%20regression%20example.ipynb"
   ]
  },
  {
   "cell_type": "code",
   "execution_count": 6,
   "metadata": {
    "collapsed": false
   },
   "outputs": [],
   "source": [
    "# Generate fake data\n",
    "n = 500\n",
    "mean = np.random.normal(0, 10, size=n)\n",
    "var = np.random.gamma(5, size=n)\n",
    "n_samp = np.random.randint(10, 500, size=n)\n",
    "samps = [np.random.normal(m, v, size=s)[:, np.newaxis] for m, v, s in zip(mean, var, n_samp)]"
   ]
  },
  {
   "cell_type": "code",
   "execution_count": 40,
   "metadata": {
    "collapsed": false
   },
   "outputs": [
    {
     "name": "stdout",
     "output_type": "stream",
     "text": [
      "112\n",
      "<type 'numpy.ndarray'>\n",
      "141\n",
      "<type 'numpy.ndarray'>\n"
     ]
    }
   ],
   "source": [
    "print(len(samps[0]))\n",
    "print(type(samps[0]))\n",
    "print(len(samps[1]))\n",
    "print(type(samps[1]))"
   ]
  },
  {
   "cell_type": "code",
   "execution_count": 47,
   "metadata": {
    "collapsed": false
   },
   "outputs": [
    {
     "name": "stdout",
     "output_type": "stream",
     "text": [
      "<type 'numpy.ndarray'>\n",
      "(133846, 1)\n",
      "(1000, 1)\n",
      "[[  0.00000000e+00   1.77002081e+02   7.22321143e+02 ...,   1.17240964e+02\n",
      "    1.11461423e+02   5.24375602e+01]\n",
      " [  1.77002081e+02   0.00000000e+00   1.61445215e+03 ...,   5.82353403e+02\n",
      "    5.69382737e+02   4.22121319e+02]\n",
      " [  7.22321143e+02   1.61445215e+03   0.00000000e+00 ...,   2.57546207e+02\n",
      "    2.66293561e+02   3.85519659e+02]\n",
      " ..., \n",
      " [  1.17240964e+02   5.82353403e+02   2.57546207e+02 ...,   0.00000000e+00\n",
      "    7.30390825e-02   1.28623247e+01]\n",
      " [  1.11461423e+02   5.69382737e+02   2.66293561e+02 ...,   7.30390825e-02\n",
      "    0.00000000e+00   1.09968567e+01]\n",
      " [  5.24375602e+01   4.22121319e+02   3.85519659e+02 ...,   1.28623247e+01\n",
      "    1.09968567e+01   0.00000000e+00]]\n",
      "127.248788751\n"
     ]
    }
   ],
   "source": [
    "# Get the median pairwise squared distance in the aggregate sample,\n",
    "# as a heuristic for choosing the bandwidth of the inner RBF kernel.\n",
    "from sklearn.metrics.pairwise import euclidean_distances\n",
    "sub = np.vstack(samps)\n",
    "print(type(sub))\n",
    "print(sub.shape)\n",
    "sub = sub[np.random.choice(sub.shape[0], min(1000, sub.shape[0]), replace=False)]\n",
    "print(sub.shape)\n",
    "D2 = euclidean_distances(sub, squared=True)\n",
    "print(D2)\n",
    "med_2 = np.median(D2[np.triu_indices_from(D2, k=1)], overwrite_input=True)\n",
    "print(med_2)\n",
    "del sub, D2"
   ]
  },
  {
   "cell_type": "code",
   "execution_count": 12,
   "metadata": {
    "collapsed": true
   },
   "outputs": [],
   "source": [
    "from sklearn import cross_validation as cv\n",
    "from sklearn.kernel_ridge import KernelRidge\n",
    "import sys"
   ]
  },
  {
   "cell_type": "code",
   "execution_count": 13,
   "metadata": {
    "collapsed": true
   },
   "outputs": [],
   "source": [
    "l1_gamma_mults = np.array([1/16, 1/4, 1, 4])\n",
    "l1_gammas = l1_gamma_mults/med_2 # gamma is inverse of sigma\n",
    "# since we divide by sigma and the median, we want to gamma by\n",
    "# the median and multiply by gamma"
   ]
  },
  {
   "cell_type": "code",
   "execution_count": 15,
   "metadata": {
    "collapsed": false
   },
   "outputs": [],
   "source": [
    "mmds, mmk_diags = mmd.rbf_mmd(samps, gammas=l1_gammas, squared=True, n_jobs=40, ret_X_diag=True)"
   ]
  },
  {
   "cell_type": "code",
   "execution_count": 17,
   "metadata": {
    "collapsed": true
   },
   "outputs": [],
   "source": [
    "# now turn the mmd^2 into a kernel and evaluate the regression for each of the hyperparameter values\n",
    "\n",
    "# choose parameters for the hyperparameter search\n",
    "k_fold = list(cv.KFold(n, n_folds=3, shuffle=True))\n",
    "l2_gamma_mults = np.array([1/4, 1, 4, 8])\n",
    "alphas = np.array([1/128, 1/64, 1/4, 1, 4])\n",
    "scores = np.empty((l1_gamma_mults.size, l2_gamma_mults.size, alphas.size, len(k_fold)))\n",
    "scores.fill(np.nan)"
   ]
  },
  {
   "cell_type": "code",
   "execution_count": 22,
   "metadata": {
    "collapsed": false,
    "scrolled": true
   },
   "outputs": [
    {
     "name": "stderr",
     "output_type": "stream",
     "text": [
      "l1 gamma 1 / 4: 0.0\n",
      "\tl2 gamma 1 / 4: 0.0\n",
      "/home/jenna/anaconda2/lib/python2.7/site-packages/sklearn/linear_model/ridge.py:154: UserWarning: Singular matrix in solving dual problem. Using least-squares solution instead.\n",
      "  warnings.warn(\"Singular matrix in solving dual problem. Using \"\n",
      "\t\talpha 1 / 5: 0 \t [-0.31301096 -0.52467986 -0.70612781]\n",
      "\t\talpha 2 / 5: 0 \t [-0.31301096 -0.52467986 -0.70612781]\n",
      "\t\talpha 3 / 5: 0 \t [-0.31301096 -0.52467986 -0.70612781]\n",
      "\t\talpha 4 / 5: 1 \t [-0.01525561 -0.00544371 -0.00179342]\n",
      "\t\talpha 5 / 5: 4 \t [-0.01517539 -0.00540549 -0.00177983]\n",
      "\tl2 gamma 2 / 4: 0.0\n",
      "\t\talpha 1 / 5: 0 \t [-0.31301096 -0.52467986 -0.70612781]\n",
      "\t\talpha 2 / 5: 0 \t [-0.31301096 -0.52467986 -0.70612781]\n",
      "\t\talpha 3 / 5: 0 \t [-0.31301096 -0.52467986 -0.70612781]\n",
      "\t\talpha 4 / 5: 1 \t [-0.01525561 -0.00544371 -0.00179342]\n",
      "\t\talpha 5 / 5: 4 \t [-0.01517539 -0.00540549 -0.00177983]\n",
      "\tl2 gamma 3 / 4: 0.0\n",
      "\t\talpha 1 / 5: 0 \t [-0.31301096 -0.52467986 -0.70612781]\n",
      "\t\talpha 2 / 5: 0 \t [-0.31301096 -0.52467986 -0.70612781]\n",
      "\t\talpha 3 / 5: 0 \t [-0.31301096 -0.52467986 -0.70612781]\n",
      "\t\talpha 4 / 5: 1 \t [-0.01525561 -0.00544371 -0.00179342]\n",
      "\t\talpha 5 / 5: 4 \t [-0.01517539 -0.00540549 -0.00177983]\n",
      "\tl2 gamma 4 / 4: 0.0\n",
      "\t\talpha 1 / 5: 0 \t [-0.31301096 -0.52467986 -0.70612781]\n",
      "\t\talpha 2 / 5: 0 \t [-0.31301096 -0.52467986 -0.70612781]\n",
      "\t\talpha 3 / 5: 0 \t [-0.31301096 -0.52467986 -0.70612781]\n",
      "\t\talpha 4 / 5: 1 \t [-0.01525561 -0.00544371 -0.00179342]\n",
      "\t\talpha 5 / 5: 4 \t [-0.01517539 -0.00540549 -0.00177983]\n",
      "l1 gamma 2 / 4: 0.0\n",
      "\tl2 gamma 1 / 4: 0.0\n",
      "\t\talpha 1 / 5: 0 \t [-0.31301096 -0.52467986 -0.70612781]\n",
      "\t\talpha 2 / 5: 0 \t [-0.31301096 -0.52467986 -0.70612781]\n",
      "\t\talpha 3 / 5: 0 \t [-0.31301096 -0.52467986 -0.70612781]\n",
      "\t\talpha 4 / 5: 1 \t [-0.01525561 -0.00544371 -0.00179342]\n",
      "\t\talpha 5 / 5: 4 \t [-0.01517539 -0.00540549 -0.00177983]\n",
      "\tl2 gamma 2 / 4: 0.0\n",
      "\t\talpha 1 / 5: 0 \t [-0.31301096 -0.52467986 -0.70612781]\n",
      "\t\talpha 2 / 5: 0 \t [-0.31301096 -0.52467986 -0.70612781]\n",
      "\t\talpha 3 / 5: 0 \t [-0.31301096 -0.52467986 -0.70612781]\n",
      "\t\talpha 4 / 5: 1 \t [-0.01525561 -0.00544371 -0.00179342]\n",
      "\t\talpha 5 / 5: 4 \t [-0.01517539 -0.00540549 -0.00177983]\n",
      "\tl2 gamma 3 / 4: 0.0\n",
      "\t\talpha 1 / 5: 0 \t [-0.31301096 -0.52467986 -0.70612781]\n",
      "\t\talpha 2 / 5: 0 \t [-0.31301096 -0.52467986 -0.70612781]\n",
      "\t\talpha 3 / 5: 0 \t [-0.31301096 -0.52467986 -0.70612781]\n",
      "\t\talpha 4 / 5: 1 \t [-0.01525561 -0.00544371 -0.00179342]\n",
      "\t\talpha 5 / 5: 4 \t [-0.01517539 -0.00540549 -0.00177983]\n",
      "\tl2 gamma 4 / 4: 0.0\n",
      "\t\talpha 1 / 5: 0 \t [-0.31301096 -0.52467986 -0.70612781]\n",
      "\t\talpha 2 / 5: 0 \t [-0.31301096 -0.52467986 -0.70612781]\n",
      "\t\talpha 3 / 5: 0 \t [-0.31301096 -0.52467986 -0.70612781]\n",
      "\t\talpha 4 / 5: 1 \t [-0.01525561 -0.00544371 -0.00179342]\n",
      "\t\talpha 5 / 5: 4 \t [-0.01517539 -0.00540549 -0.00177983]\n",
      "l1 gamma 3 / 4: 127.6\n",
      "\tl2 gamma 1 / 4: 0.0\n",
      "\t\talpha 1 / 5: 0 \t [-0.31301096 -0.52467986 -0.70612781]\n",
      "\t\talpha 2 / 5: 0 \t [-0.31301096 -0.52467986 -0.70612781]\n",
      "\t\talpha 3 / 5: 0 \t [-0.31301096 -0.52467986 -0.70612781]\n",
      "\t\talpha 4 / 5: 1 \t [-0.01525561 -0.00544371 -0.00179342]\n",
      "\t\talpha 5 / 5: 4 \t [-0.01517539 -0.00540549 -0.00177983]\n",
      "\tl2 gamma 2 / 4: 0.5138\n",
      "\t\talpha 1 / 5: 0 \t [-1552.62497054  -226.45652517   -56.78573006]\n",
      "\t\talpha 2 / 5: 0 \t [-1552.62497054  -226.45652517   -56.78573006]\n",
      "\t\talpha 3 / 5: 0 \t [-1552.62497054  -226.45652517   -56.78573006]\n",
      "\t\talpha 4 / 5: 1 \t [ 0.93200758  0.94932174  0.98644355]\n",
      "\t\talpha 5 / 5: 4 \t [ 0.90027574  0.9098719   0.93236441]\n",
      "\tl2 gamma 3 / 4: 2.055\n",
      "\t\talpha 1 / 5: 0 \t [-237.76226095  -14.43368499  -13.5108184 ]\n",
      "\t\talpha 2 / 5: 0 \t [-237.76226095  -14.43368499  -13.5108184 ]\n",
      "\t\talpha 3 / 5: 0 \t [-237.76226095  -14.43368499  -13.5108184 ]\n",
      "\t\talpha 4 / 5: 1 \t [ 0.92312077  0.94063024  0.98965935]\n",
      "\t\talpha 5 / 5: 4 \t [ 0.90149767  0.91006692  0.94882782]\n",
      "\tl2 gamma 4 / 4: 4.111\n",
      "\t\talpha 1 / 5: 0 \t [-2.25062196  0.45535736 -2.76717861]\n",
      "\t\talpha 2 / 5: 0 \t [-2.25062196  0.45535736 -2.76717861]\n",
      "\t\talpha 3 / 5: 0 \t [-2.25062196  0.45535736 -2.76717861]\n",
      "\t\talpha 4 / 5: 1 \t [ 0.90563699  0.9246422   0.98150502]\n",
      "\t\talpha 5 / 5: 4 \t [ 0.88192802  0.89130657  0.92575864]\n",
      "l1 gamma 4 / 4: 510.3\n",
      "\tl2 gamma 1 / 4: 0.0\n",
      "\t\talpha 1 / 5: 0 \t [-0.31301096 -0.52467986 -0.70612781]\n",
      "\t\talpha 2 / 5: 0 \t [-0.31301096 -0.52467986 -0.70612781]\n",
      "\t\talpha 3 / 5: 0 \t [-0.31301096 -0.52467986 -0.70612781]\n",
      "\t\talpha 4 / 5: 1 \t [-0.01525561 -0.00544371 -0.00179342]\n",
      "\t\talpha 5 / 5: 4 \t [-0.01517539 -0.00540549 -0.00177983]\n",
      "\tl2 gamma 2 / 4: 0.5259\n",
      "\t\talpha 1 / 5: 0 \t [ 0.94156274  0.37174706  0.82119948]\n",
      "\t\talpha 2 / 5: 0 \t [ 0.94156274  0.37174706  0.82119948]\n",
      "\t\talpha 3 / 5: 0 \t [ 0.94156274  0.37174706  0.82119948]\n",
      "\t\talpha 4 / 5: 1 \t [ 0.9145031   0.93311379  0.97479116]\n",
      "\t\talpha 5 / 5: 4 \t [ 0.87415359  0.88081335  0.89486852]\n",
      "\tl2 gamma 3 / 4: 2.104\n",
      "\t\talpha 1 / 5: 0 \t [ 0.96574908  0.89696991  0.95092474]\n",
      "\t\talpha 2 / 5: 0 \t [ 0.96574908  0.89696991  0.95092474]\n",
      "\t\talpha 3 / 5: 0 \t [ 0.96574908  0.89696991  0.95092474]\n",
      "\t\talpha 4 / 5: 1 \t [ 0.91422188  0.92785063  0.9828002 ]\n",
      "\t\talpha 5 / 5: 4 \t [ 0.88676932  0.89093102  0.92882554]\n",
      "\tl2 gamma 4 / 4: 4.208\n",
      "\t\talpha 1 / 5: 0 \t [ 0.94736936  0.92324928  0.98207925]\n",
      "\t\talpha 2 / 5: 0 \t [ 0.94736936  0.92324928  0.98207925]\n",
      "\t\talpha 3 / 5: 0 \t [ 0.94736936  0.92324928  0.98207925]\n",
      "\t\talpha 4 / 5: 1 \t [ 0.90266802  0.91053616  0.97118521]\n",
      "\t\talpha 5 / 5: 4 \t [ 0.86845894  0.86836356  0.90410147]\n"
     ]
    }
   ],
   "source": [
    "K = np.empty((n, n), dtype=samps[0].dtype)\n",
    "for l1_gamma_i, l1_gamma in enumerate(l1_gamma_mults * med_2):\n",
    "    print(\"l1 gamma {} / {}: {:.4}\".format(l1_gamma_i + 1, len(l1_gamma_mults), l1_gamma), file=sys.stderr)\n",
    "    D2_mmd = mmds[l1_gamma_i]\n",
    "    \n",
    "    # get the median of *these* squared distances,\n",
    "    # to scale the bandwidth of the outer RBF kernel\n",
    "    mmd_med2 = np.median(D2_mmd[np.triu_indices_from(D2_mmd, k=1)])\n",
    "    \n",
    "    for l2_gamma_i, l2_gamma in enumerate(l2_gamma_mults * mmd_med2):\n",
    "        print(\"\\tl2 gamma {} / {}: {:.4}\".format(l2_gamma_i + 1, len(l2_gamma_mults), l2_gamma), file=sys.stderr)\n",
    "        np.multiply(D2_mmd, -l2_gamma, out=K)\n",
    "        np.exp(K, out=K)\n",
    "        \n",
    "        for alpha_i, alpha in enumerate(alphas):\n",
    "            ridge = KernelRidge(alpha=alpha, kernel='precomputed')\n",
    "            these = cv.cross_val_score(ridge, K, mean, cv=k_fold)\n",
    "            scores[l1_gamma_i, l2_gamma_i, alpha_i, :] = these\n",
    "            print(\"\\t\\talpha {} / {}: {} \\t {}\".format(alpha_i + 1, len(alphas), alpha, these), file=sys.stderr)"
   ]
  },
  {
   "cell_type": "code",
   "execution_count": 23,
   "metadata": {
    "collapsed": true
   },
   "outputs": [],
   "source": [
    "mean_scores = scores.mean(axis=-1)"
   ]
  },
  {
   "cell_type": "code",
   "execution_count": 24,
   "metadata": {
    "collapsed": false
   },
   "outputs": [
    {
     "name": "stderr",
     "output_type": "stream",
     "text": [
      "/home/jenna/anaconda2/lib/python2.7/site-packages/matplotlib/font_manager.py:273: UserWarning: Matplotlib is building the font cache using fc-list. This may take a moment.\n",
      "  warnings.warn('Matplotlib is building the font cache using fc-list. This may take a moment.')\n"
     ]
    }
   ],
   "source": [
    "import matplotlib.pyplot as plt\n",
    "import seaborn as sns"
   ]
  },
  {
   "cell_type": "code",
   "execution_count": 25,
   "metadata": {
    "collapsed": false
   },
   "outputs": [
    {
     "ename": "ValueError",
     "evalue": "Precision not allowed in integer format specifier",
     "output_type": "error",
     "traceback": [
      "\u001b[1;31m---------------------------------------------------------------------------\u001b[0m",
      "\u001b[1;31mValueError\u001b[0m                                Traceback (most recent call last)",
      "\u001b[1;32m<ipython-input-25-6821076a0cd7>\u001b[0m in \u001b[0;36m<module>\u001b[1;34m()\u001b[0m\n\u001b[0;32m      7\u001b[0m \u001b[1;33m\u001b[0m\u001b[0m\n\u001b[0;32m      8\u001b[0m     \u001b[0max\u001b[0m\u001b[1;33m.\u001b[0m\u001b[0mset_yticklabels\u001b[0m\u001b[1;33m(\u001b[0m\u001b[1;33m[\u001b[0m\u001b[1;34m''\u001b[0m\u001b[1;33m]\u001b[0m \u001b[1;33m+\u001b[0m \u001b[1;33m[\u001b[0m\u001b[1;34m'{:.3}'\u001b[0m\u001b[1;33m.\u001b[0m\u001b[0mformat\u001b[0m\u001b[1;33m(\u001b[0m\u001b[0mg\u001b[0m \u001b[1;33m*\u001b[0m \u001b[0mmmd_med2\u001b[0m\u001b[1;33m)\u001b[0m \u001b[1;32mfor\u001b[0m \u001b[0mg\u001b[0m \u001b[1;32min\u001b[0m \u001b[0ml2_gamma_mults\u001b[0m\u001b[1;33m]\u001b[0m\u001b[1;33m)\u001b[0m\u001b[1;33m\u001b[0m\u001b[0m\n\u001b[1;32m----> 9\u001b[1;33m     \u001b[0max\u001b[0m\u001b[1;33m.\u001b[0m\u001b[0mset_xticklabels\u001b[0m\u001b[1;33m(\u001b[0m\u001b[1;33m[\u001b[0m\u001b[1;34m''\u001b[0m\u001b[1;33m]\u001b[0m \u001b[1;33m+\u001b[0m \u001b[1;33m[\u001b[0m\u001b[1;34m'{:.3}'\u001b[0m\u001b[1;33m.\u001b[0m\u001b[0mformat\u001b[0m\u001b[1;33m(\u001b[0m\u001b[0ma\u001b[0m\u001b[1;33m)\u001b[0m \u001b[1;32mfor\u001b[0m \u001b[0ma\u001b[0m \u001b[1;32min\u001b[0m \u001b[0malphas\u001b[0m\u001b[1;33m]\u001b[0m\u001b[1;33m)\u001b[0m\u001b[1;33m\u001b[0m\u001b[0m\n\u001b[0m\u001b[0;32m     10\u001b[0m     \u001b[0max\u001b[0m\u001b[1;33m.\u001b[0m\u001b[0mxaxis\u001b[0m\u001b[1;33m.\u001b[0m\u001b[0mset_major_locator\u001b[0m\u001b[1;33m(\u001b[0m\u001b[0mticker\u001b[0m\u001b[1;33m.\u001b[0m\u001b[0mMultipleLocator\u001b[0m\u001b[1;33m(\u001b[0m\u001b[1;36m1\u001b[0m\u001b[1;33m)\u001b[0m\u001b[1;33m)\u001b[0m\u001b[1;33m\u001b[0m\u001b[0m\n\u001b[0;32m     11\u001b[0m     \u001b[0max\u001b[0m\u001b[1;33m.\u001b[0m\u001b[0myaxis\u001b[0m\u001b[1;33m.\u001b[0m\u001b[0mset_major_locator\u001b[0m\u001b[1;33m(\u001b[0m\u001b[0mticker\u001b[0m\u001b[1;33m.\u001b[0m\u001b[0mMultipleLocator\u001b[0m\u001b[1;33m(\u001b[0m\u001b[1;36m1\u001b[0m\u001b[1;33m)\u001b[0m\u001b[1;33m)\u001b[0m\u001b[1;33m\u001b[0m\u001b[0m\n",
      "\u001b[1;31mValueError\u001b[0m: Precision not allowed in integer format specifier"
     ]
    }
   ],
   "source": [
    "import matplotlib.ticker as ticker\n",
    "\n",
    "fig = plt.figure(figsize=(8, 15))\n",
    "for i in range(len(l1_gamma_mults)):\n",
    "    ax = fig.add_subplot(len(l1_gamma_mults), 1, i+1)\n",
    "    cax = ax.matshow(mean_scores[i, :, :], vmin=0, vmax=1)\n",
    "    \n",
    "    ax.set_yticklabels([''] + ['{:.3}'.format(g * mmd_med2) for g in l2_gamma_mults])\n",
    "    ax.set_xticklabels([''] + ['{:.3}'.format(a) for a in alphas])\n",
    "    ax.xaxis.set_major_locator(ticker.MultipleLocator(1))\n",
    "    ax.yaxis.set_major_locator(ticker.MultipleLocator(1))\n",
    "    \n",
    "    fig.colorbar(cax)\n",
    "    ax.set_title(\"L1 gamma: {}\".format(l1_gamma_mults[i] * med_2))\n",
    "plt.tight_layout()"
   ]
  },
  {
   "cell_type": "code",
   "execution_count": 26,
   "metadata": {
    "collapsed": true
   },
   "outputs": [],
   "source": [
    "best_l1_gamma_i, best_l2_gamma_i, best_alpha_i = np.unravel_index(mean_scores.argmax(), mean_scores.shape)\n",
    "best_l1_gamma = l1_gamma_mults[best_l1_gamma_i] * med_2\n",
    "best_l2_gamma = l2_gamma_mults[best_l2_gamma_i] * mmd_med2\n",
    "best_alpha = alphas[best_alpha_i]"
   ]
  },
  {
   "cell_type": "code",
   "execution_count": 27,
   "metadata": {
    "collapsed": false
   },
   "outputs": [
    {
     "data": {
      "text/plain": [
       "(2, 1, 3)"
      ]
     },
     "execution_count": 27,
     "metadata": {},
     "output_type": "execute_result"
    }
   ],
   "source": [
    "best_l1_gamma_i, best_l2_gamma_i, best_alpha_i\n"
   ]
  },
  {
   "cell_type": "code",
   "execution_count": 28,
   "metadata": {
    "collapsed": false
   },
   "outputs": [
    {
     "data": {
      "text/plain": [
       "KernelRidge(alpha=1, coef0=1, degree=3, gamma=None, kernel='precomputed',\n",
       "      kernel_params=None)"
      ]
     },
     "execution_count": 28,
     "metadata": {},
     "output_type": "execute_result"
    }
   ],
   "source": [
    "# now train a model on the full training set\n",
    "# get the training kernel\n",
    "D2_mmd = mmds[best_l1_gamma_i]\n",
    "np.multiply(D2_mmd, -best_l2_gamma, out=K)\n",
    "np.exp(K, out=K)\n",
    "\n",
    "ridge = KernelRidge(alpha=best_alpha, kernel='precomputed')\n",
    "ridge.fit(K, mean)"
   ]
  },
  {
   "cell_type": "code",
   "execution_count": 29,
   "metadata": {
    "collapsed": true
   },
   "outputs": [],
   "source": [
    "# evaluate on new data\n",
    "# generate some test data from the same distribution\n",
    "t_n = 100\n",
    "t_mean = np.random.normal(0, 10, size=t_n)\n",
    "t_var = np.random.gamma(5, size=t_n)\n",
    "t_n_samp = np.random.randint(10, 5000, size=t_n)\n",
    "t_samps = [np.random.normal(m, v, size=s)[:, np.newaxis] for m, v, x, in zip(t_mean, t_var, t_n_samp)]"
   ]
  },
  {
   "cell_type": "code",
   "execution_count": 30,
   "metadata": {
    "collapsed": false
   },
   "outputs": [
    {
     "data": {
      "text/plain": [
       "array([[ 0.73170252,  0.66805928,  0.73492671, ...,  0.64948179,\n",
       "         0.66651361,  0.63484761],\n",
       "       [ 0.73384386,  0.67205118,  0.73875124, ...,  0.65359307,\n",
       "         0.67040808,  0.6326097 ],\n",
       "       [ 0.73258752,  0.66926065,  0.73610474, ...,  0.65055619,\n",
       "         0.66783187,  0.63617991],\n",
       "       ..., \n",
       "       [ 0.73062304,  0.66783913,  0.73462421, ...,  0.64914168,\n",
       "         0.66578466,  0.63335361],\n",
       "       [ 0.73427434,  0.66786371,  0.73659583, ...,  0.64762565,\n",
       "         0.67034907,  0.62948137],\n",
       "       [ 0.73659605,  0.66723926,  0.73655894, ...,  0.64780669,\n",
       "         0.66850917,  0.63021556]])"
      ]
     },
     "execution_count": 30,
     "metadata": {},
     "output_type": "execute_result"
    }
   ],
   "source": [
    "# apply the kernel generated using the training data to the test data\n",
    "t_K = mmd.rbf_mmd(t_samps, samps, gammas=best_l1_gamma, squared=True,\n",
    "                 Y_diag=mmk_diags[best_l1_gamma_i], n_jobs=20)\n",
    "t_K *= -best_l2_gamma\n",
    "np.exp(t_K, out=t_K)"
   ]
  },
  {
   "cell_type": "code",
   "execution_count": 35,
   "metadata": {
    "collapsed": false
   },
   "outputs": [
    {
     "data": {
      "text/plain": [
       "<matplotlib.collections.PathCollection at 0x7f91cd2576d0>"
      ]
     },
     "execution_count": 35,
     "metadata": {},
     "output_type": "execute_result"
    }
   ],
   "source": [
    "preds = ridge.predict(t_K)\n",
    "plt.figure(figsize=(5,5))\n",
    "plt.scatter(t_mean, preds)"
   ]
  },
  {
   "cell_type": "markdown",
   "metadata": {},
   "source": []
  }
 ],
 "metadata": {
  "kernelspec": {
   "display_name": "Python [Root]",
   "language": "python",
   "name": "Python [Root]"
  },
  "language_info": {
   "codemirror_mode": {
    "name": "ipython",
    "version": 2
   },
   "file_extension": ".py",
   "mimetype": "text/x-python",
   "name": "python",
   "nbconvert_exporter": "python",
   "pygments_lexer": "ipython2",
   "version": "2.7.12"
  }
 },
 "nbformat": 4,
 "nbformat_minor": 0
}
