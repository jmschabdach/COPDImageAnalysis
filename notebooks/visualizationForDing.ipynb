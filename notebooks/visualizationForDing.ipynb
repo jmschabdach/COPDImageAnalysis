{
 "cells": [
  {
   "cell_type": "markdown",
   "metadata": {},
   "source": [
    "To use this file:\n",
    "\n",
    "- hit ctrl+Enter in each cell to run it. A running cell will have \"In[\\*]:\" next to it. They need to be run in order and each one needs to finish before the next can run. After a cell is finished running, it will have \"In[some number]:\" next to it.\n",
    "- Some cells produce output, some don't.\n",
    "- Note: the *Imports* cell will give you a warning. It's just telling you it's going to take a minute, it's not a problem.\n",
    "\n",
    "Some of these packages aren't part of the standard python libraries. To use them, the best bet is to install conda and then install the packages using conda. I've included the conda install commands next to those I know you'll need to take care of, but there are some that I might have missed."
   ]
  },
  {
   "cell_type": "code",
   "execution_count": 1,
   "metadata": {
    "collapsed": false
   },
   "outputs": [
    {
     "name": "stderr",
     "output_type": "stream",
     "text": [
      "/home/jenna/anaconda2/lib/python2.7/site-packages/matplotlib/font_manager.py:273: UserWarning: Matplotlib is building the font cache using fc-list. This may take a moment.\n",
      "  warnings.warn('Matplotlib is building the font cache using fc-list. This may take a moment.')\n"
     ]
    }
   ],
   "source": [
    "# Imports\n",
    "# embedding\n",
    "from sklearn import manifold  # conda install -c anaconda scikit-learn=0.17.1\n",
    "# plotting\n",
    "from mpl_toolkits.axes_grid1 import *\n",
    "import matplotlib.pyplot as plt\n",
    "import numpy as np\n",
    "import seaborn as sns  # to install: conda install -c anaconda seaborn=0.7.1\n",
    "%matplotlib inline"
   ]
  },
  {
   "cell_type": "markdown",
   "metadata": {},
   "source": [
    "2 options\n",
    "1. Plot the effectiveness score of a drug for each tumor type.\n",
    "    - Good idea, but would need to figure out how to come up with the x and y coordinates for the scatter plot. \"Class\" or color for the scatterplot would be the effectiveness of the drug\n",
    "2. Take the effectiveness score matrix, use TSNE manifold embedding to reduce it to a matrix where\n",
    "    - number of tumors = number of rows\n",
    "    - number of columns = 2\n",
    "    \n",
    "And then plot it.\n",
    " - color = ? (I think you said something about the number of tumor types each drug was tested on)\n",
    " - Don't know if this would produce something meaningful? Would probably look cool."
   ]
  },
  {
   "cell_type": "markdown",
   "metadata": {},
   "source": [
    "This is the function to actually plot the data in the scatterplot."
   ]
  },
  {
   "cell_type": "code",
   "execution_count": 5,
   "metadata": {
    "collapsed": false
   },
   "outputs": [
    {
     "name": "stdout",
     "output_type": "stream",
     "text": [
      "Function loaded!\n"
     ]
    }
   ],
   "source": [
    "def  plotLowDimWithColor( positions2D, nodeColors, \n",
    "                         plotTitle=None, markerSize=2 ):\n",
    "    \"\"\"\n",
    "    Plot a low dimensional dataset (taking data from high dimensions\n",
    "    to low dimensions through manifold embedding is low dimensional \n",
    "    embedding). Works with 2D data, initially written to be used with\n",
    "    results from 2D TSNE manifold embedding.\n",
    "    \n",
    "    Inputs:\n",
    "    - positions2D: x and y coordinates to use in scatterplot\n",
    "    - nodeColors: class used to define the color for each node in the scatterplot\n",
    "        - Note: currently set up so that high values will show up as red\n",
    "                and low values will show up as blue\n",
    "    - plotTitle: tile of the plot to print above the plot\n",
    "    - markerSize: default is 2, use larger values to make the points bigger\n",
    "    \n",
    "    Returns: nothing\n",
    "    Effect: plots a scatter plot below the cell\n",
    "    \"\"\"\n",
    "    # normalize the colors to a good range\n",
    "    maxVal = -np.sort(-np.asarray(nodeColors))[0]\n",
    "    minVal = np.sort(np.asarray(nodeColors))[0]\n",
    "    cm = plt.cm.get_cmap('RdYlBu_r')  # high color values = red, low = blue\n",
    "    # cm = plt.cm.get_cmap('RdYlBu')  # low color values = red, high = blue\n",
    "    \n",
    "#     if ax==None:  # don't use this, I haven't tried it with axes yet\n",
    "    # draw the scatterplot with colors\n",
    "    scatter(positions2D[:,0], positions2D[:,1], c=nodeColors, \n",
    "            lw = 0, vmin=minVal, vmax=maxVal,  \n",
    "            cmap=cm, s=markerSize )\n",
    "    # add a colorbar on the side\n",
    "    colorbar()\n",
    "    # set the x and y limits of the part of the graph that's displayed\n",
    "    plt.xlim(np.percentile(positions2D[:,0], 1, axis=0), \n",
    "             np.percentile(positions2D[:,0], 99, axis=0))\n",
    "    plt.ylim(np.percentile(positions2D[:,1], 1, axis=0), \n",
    "             np.percentile(positions2D[:,1], 99, axis=0))   \n",
    "    plt.title(plotTitle)      \n",
    "#     else:\n",
    "#         scPlot = ax.scatter(positions2D[:,0], positions2D[:,1], c=np.asarray(subjColors), \n",
    "#                 lw = 0, vmin=minVal, vmax=maxVal,  \n",
    "#                 cmap=cm, s=markerSize  )\n",
    "#         divider = make_axes_locatable(ax)\n",
    "#         cax = divider.append_axes(\"right\", size=\"5%\", pad=0.05)\n",
    "#         cbar = plt.colorbar(scPlot, cax=cax)\n",
    "#         ax.set_xlim(np.percentile(inFeature[:,0], 1, axis=0), \n",
    "#                  np.percentile(inFeature[:,0], 99, axis=0))\n",
    "#         ax.set_ylim(np.percentile(inFeature[:,1], 1, axis=0), \n",
    "#                  np.percentile(inFeature[:,1], 99, axis=0)) \n",
    "#         ax.set_title(plotTitle)\n",
    "#         ax.get_xaxis().set_visible(False)\n",
    "#         ax.get_yaxis().set_visible(False)\n",
    "\n",
    "print \"Function loaded!\""
   ]
  },
  {
   "cell_type": "markdown",
   "metadata": {},
   "source": [
    "If you're going with option 2, here's where you'll do the TSNE manifold embedding. It might take a few moments."
   ]
  },
  {
   "cell_type": "code",
   "execution_count": 4,
   "metadata": {
    "collapsed": false
   },
   "outputs": [
    {
     "ename": "SyntaxError",
     "evalue": "invalid syntax (<ipython-input-4-b250f42d56e3>, line 2)",
     "output_type": "error",
     "traceback": [
      "\u001b[1;36m  File \u001b[1;32m\"<ipython-input-4-b250f42d56e3>\"\u001b[1;36m, line \u001b[1;32m2\u001b[0m\n\u001b[1;33m    data =\u001b[0m\n\u001b[1;37m           ^\u001b[0m\n\u001b[1;31mSyntaxError\u001b[0m\u001b[1;31m:\u001b[0m invalid syntax\n"
     ]
    }
   ],
   "source": [
    "# read in your data\n",
    "data = \n",
    "y = \n",
    "\n",
    "# set up the transform object (not sure if object is the right word?)\n",
    "tsne = manifold.TSNE(n_components=2, init='pca', random_state=0)\n",
    "# do the transform on your data\n",
    "data2D = tsne.fit_transform(data)\n",
    "\n",
    "# Check: the shape of your data should be (# tumors, 2)\n",
    "print data2D.shape\n",
    "# Check: the shape of the classes/colors/y should be (# tumors, 1)\n",
    "print y.shape"
   ]
  },
  {
   "cell_type": "markdown",
   "metadata": {},
   "source": [
    "Here's were you call the plotting function."
   ]
  },
  {
   "cell_type": "code",
   "execution_count": null,
   "metadata": {
    "collapsed": true
   },
   "outputs": [],
   "source": [
    "# if you're going with option 1, throw your data in here\n",
    "# data2D = \n",
    "# y = \n",
    "\n",
    "with sns.axes_style(\"white\"):\n",
    "    f, ax1 = plt.subplots()\n",
    "\n",
    "# write your own visualizationb, each subject is a dot in 2D and color each subject with her own y\n",
    "plotLowDimWithColor(data2D, subjList_subset, y\n",
    "                    ax=ax1, plotTitle='visualization', markerSize=20)\n",
    "\n",
    "ax1.set_xlim([-11,11])\n",
    "ax1.set_ylim([-11,11])\n",
    "ax1.set_title('Your graph title here',fontsize=20)"
   ]
  }
 ],
 "metadata": {
  "kernelspec": {
   "display_name": "Python [Root]",
   "language": "python",
   "name": "Python [Root]"
  },
  "language_info": {
   "codemirror_mode": {
    "name": "ipython",
    "version": 2
   },
   "file_extension": ".py",
   "mimetype": "text/x-python",
   "name": "python",
   "nbconvert_exporter": "python",
   "pygments_lexer": "ipython2",
   "version": "2.7.12"
  }
 },
 "nbformat": 4,
 "nbformat_minor": 0
}
