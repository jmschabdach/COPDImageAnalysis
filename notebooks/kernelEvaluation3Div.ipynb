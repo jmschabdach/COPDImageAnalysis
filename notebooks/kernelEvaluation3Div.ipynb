{
 "cells": [
  {
   "cell_type": "code",
   "execution_count": 1,
   "metadata": {
    "collapsed": false
   },
   "outputs": [],
   "source": [
    "# Imports\n",
    "from __future__ import print_function\n",
    "import numpy as np\n",
    "import scipy.sparse as sp\n",
    "import scipy\n",
    "\n",
    "# saving/loading simulated data\n",
    "import pickle as pk\n",
    "\n",
    "# Dougal code imports\n",
    "from skl_groups.features import Features\n",
    "from sklearn.pipeline import Pipeline\n",
    "from skl_groups.divergences import KNNDivergenceEstimator\n",
    "from skl_groups.kernels import PairwisePicker, Symmetrize, RBFize, ProjectPSD\n",
    "import mmd  # conda install -c dougal mmd\n",
    "from sklearn.metrics.pairwise import euclidean_distances\n",
    "\n",
    "# for post-kernel generation analysis\n",
    "from sklearn import manifold\n",
    "from sklearn.manifold import LocallyLinearEmbedding\n",
    "import seaborn as sns\n",
    "from mpl_toolkits.axes_grid1 import *\n",
    "\n",
    "\n",
    "import matplotlib.pyplot as plt\n",
    "%matplotlib inline"
   ]
  },
  {
   "cell_type": "markdown",
   "metadata": {},
   "source": [
    "# Helper Functions"
   ]
  },
  {
   "cell_type": "code",
   "execution_count": 8,
   "metadata": {
    "collapsed": false
   },
   "outputs": [],
   "source": [
    "# load kernel file\n",
    "def loadSimilarities(fn):\n",
    "    \"\"\"\n",
    "    Load the previously saved similarity matrix from a .npz file\n",
    "\n",
    "    Inputs:\n",
    "    - fn: directory/filename (minus extension) to load the file from\n",
    "\n",
    "    Returns:\n",
    "    - loadedSims: similarity matrix\n",
    "    \"\"\"\n",
    "    loader = np.load(fn+\".npz\")\n",
    "    print(\"Similarities loaded!\")\n",
    "    return loader['similarities']\n",
    "\n",
    "# Note: loaded kernel is the result of\n",
    "# - building the KNN graph using KL divergence\n",
    "# - symmeterizing the graph: KL is not a distance and is not symmetric, we need distance-symmetry behavior because next step is...\n",
    "# - passing the symmeterized graph through a radial basis function (RBF): Since the value of the RBF kernel decreases with distance and ranges between zero (in the limit) and one (when x = x'), it has a ready interpretation as a similarity measure\n",
    "# - projecting the output of the RBF to a positive semi-definite space: \n",
    "\n",
    "def loadSimFeats(fn):\n",
    "    \"\"\"\n",
    "    Load a previously saved simulated subject from a .npz file.\n",
    "\n",
    "    Inputs:\n",
    "    - fn: filename/directory to load from (extensionless)\n",
    "\n",
    "    Returns:\n",
    "    - features: single patient's features/nodes\n",
    "    - ids: subject ids\n",
    "    - y: the label (number of abnormal nodes)\n",
    "    \"\"\"\n",
    "    with open(fn+\"-feats.data.p\", \"rb\") as f:\n",
    "        loader = pk.load(f)\n",
    "    f.close()\n",
    "    print(\"Simluated patient features and metadata loaded!\")\n",
    "    return loader['ids'], np.asarray(loader['y']), loader['features']\n",
    "\n",
    "def  plotLowDimWithColor( nodes2D, subjColor, \n",
    "                         ax=None, plotTitle=None, markerSize=2 ):\n",
    "    \"\"\"\n",
    "    plot low dimensional embedding\n",
    "    \n",
    "    Inputs:\n",
    "    - nodes2D: subset of patients that came from a higher dimensional space and need to be plotted in 2D for visualization\n",
    "    - subjColor: number of abnormal nodes in each simulated patient\n",
    "    \n",
    "    Returns: nothing\n",
    "    Effect: plots a scatter plot\n",
    "    \"\"\"\n",
    "    inFeature = nodes2D\n",
    "\n",
    "    # normalize the colors to a good range\n",
    "    maxVal = -np.sort(-np.asarray(subjColor))[0]\n",
    "    minVal = np.sort(np.asarray(subjColor))[0]\n",
    "    cm = plt.cm.get_cmap('RdYlBu_r')\n",
    "    print(subjColor)\n",
    "    \n",
    "    if ax==None:\n",
    "        scatter(inFeature[:,0], inFeature[:,1], c=subjColor, \n",
    "                lw = 0, vmin=minVal, vmax=maxVal,  \n",
    "                cmap=cm, s=markerSize )\n",
    "        colorbar()\n",
    "        plt.xlim(np.percentile(inFeature[:,0], 1, axis=0), \n",
    "                 np.percentile(inFeature[:,0], 99, axis=0))\n",
    "        plt.ylim(np.percentile(inFeature[:,1], 1, axis=0), \n",
    "                 np.percentile(inFeature[:,1], 99, axis=0))   \n",
    "        plt.title(plotTitle)      \n",
    "    else:\n",
    "        scPlot = ax.scatter(inFeature[:,0], inFeature[:,1], c=np.asarray(subjColor), \n",
    "                lw = 0, vmin=minVal, vmax=maxVal,  \n",
    "                cmap=cm, s=markerSize  )\n",
    "        divider = make_axes_locatable(ax)\n",
    "        cax = divider.append_axes(\"right\", size=\"5%\", pad=0.05)\n",
    "        cbar = plt.colorbar(scPlot, cax=cax)\n",
    "        ax.set_xlim(np.percentile(inFeature[:,0], 1, axis=0), \n",
    "                 np.percentile(inFeature[:,0], 99, axis=0))\n",
    "        ax.set_ylim(np.percentile(inFeature[:,1], 1, axis=0), \n",
    "                 np.percentile(inFeature[:,1], 99, axis=0)) \n",
    "        ax.set_title(plotTitle)\n",
    "        ax.get_xaxis().set_visible(False)\n",
    "        ax.get_yaxis().set_visible(False)\n",
    "        \n",
    "# Helper functions\n",
    "def evalFeatures_Regression(XTrain,yTrain,XTest,yTest,m):\n",
    "    \"\"\"\n",
    "    evaluate a regression model\n",
    "    \"\"\"\n",
    "\n",
    "    # scaling\n",
    "    stdScaler = StandardScaler()\n",
    "    stdScaler.fit(XTrain)\n",
    "    XTrain = stdScaler.transform(XTrain)\n",
    "    yTrain = np.log10(yTrain)\n",
    "    XTest = stdScaler.transform(XTest)\n",
    "    yTest = np.log10(yTest)\n",
    "        \n",
    "    m.fit(XTrain, yTrain)\n",
    "    pred_y = m.predict(XTest)\n",
    "    r2 = metrics.r2_score(yTest, pred_y)\n",
    "    s = metrics.mean_squared_error(yTest, pred_y)\n",
    "    return r2, s, pred_y\n",
    "\n",
    "def loadSimImg(fn):\n",
    "    \"\"\"\n",
    "    Load a previously saved simulated subject from a .npz file.\n",
    "\n",
    "    Inputs:\n",
    "    - fn: filename/directory to load from (extensionless)\n",
    "\n",
    "    Returns:\n",
    "    - images: single patient's features/nodes\n",
    "    \"\"\"\n",
    "    loader = np.load(fn+\".npz\")\n",
    "#     print \"Image \" + fn + \" loaded!\"\n",
    "    return loader['image']\n",
    "\n",
    "# rootPath = \"/home/jms565/Research/COPDImageAnalysis/simulatedData/\"\n",
    "# rootPath = \"/pylon2/ms4s88p/jms565/projects/MNISTSubjects/\"\n",
    "# rootPath = \"/home/jenna/Research/COPDImageAnalysis/simulatedData/\"\n",
    "rootPath = '/home/jms565/Research/COPDImageAnalysis/annotations/unannotated/'"
   ]
  },
  {
   "cell_type": "markdown",
   "metadata": {},
   "source": [
    "# Start by loading data for KL, HE, and MMD"
   ]
  },
  {
   "cell_type": "code",
   "execution_count": null,
   "metadata": {
    "collapsed": false
   },
   "outputs": [],
   "source": [
    "# Paths for learned features\n",
    "kernelFN = rootPath+\"kernel-kl\"\n",
    "# kernelFN = \"/home/jms565/Research/COPDImageAnalysis/simulatedData/kernel-2000-sym-pix-kl\"\n",
    "kl_sym = loadSimilarities(kernelFN)\n",
    "kernelFN = rootPath+\"kernel-he\"\n",
    "# kernelFN = \"/home/jms565/Research/COPDImageAnalysis/simulatedData/kernel-2000-sym-pix-he\"\n",
    "he_sym = loadSimilarities(kernelFN)\n",
    "\n",
    "kernelFN = rootPath+\"kernel-matrix-mmd-gammas-1-med\"\n",
    "mmd_sym = loadSimilarities(kernelFN)\n",
    "\n",
    "assert (kl_sym == kl_sym.T).all()\n",
    "assert (he_sym == he_sym.T).all()\n",
    "# assert (mmd_sym == mmd_sym.T).all()\n",
    "\n",
    "# These kernels were projected and scaled correctly, so loading them as\n",
    "kernelKl = kl_sym\n",
    "kernelHE = he_sym\n",
    "kernelMMD = mmd_sym"
   ]
  },
  {
   "cell_type": "code",
   "execution_count": null,
   "metadata": {
    "collapsed": false
   },
   "outputs": [],
   "source": [
    "# Paths for the simulated data\n",
    "kernelFN = rootPath+\"kernel-2000-sym-v2\"\n",
    "# kernelFN = \"/home/jms565/Research/COPDImageAnalysis/simulatedData/kernel-2000-sym-pix-kl\"\n",
    "kl_sym = loadSimilarities(kernelFN)\n",
    "kernelFN = rootPath+\"kernel-2000-sym-he\"\n",
    "# kernelFN = \"/home/jms565/Research/COPDImageAnalysis/simulatedData/kernel-2000-sym-pix-he\"\n",
    "he_sym = loadSimilarities(kernelFN)\n",
    "\n",
    "kernelFN = rootPath+\"kernel-matrix-mmd-gammas-1-med\"\n",
    "mmd_sym = loadSimilarities(kernelFN)\n",
    "\n",
    "assert (kl_sym == kl_sym.T).all()\n",
    "assert (he_sym == he_sym.T).all()\n",
    "assert (mmd_sym == mmd_sym.T).all()"
   ]
  },
  {
   "cell_type": "markdown",
   "metadata": {},
   "source": [
    "# Need to RBFize and ProjectPSD the KL and HE"
   ]
  },
  {
   "cell_type": "code",
   "execution_count": null,
   "metadata": {
    "collapsed": false
   },
   "outputs": [
    {
     "name": "stdout",
     "output_type": "stream",
     "text": [
      "1.00737e-17 0.36788 0.810957\n",
      "1.00737e-17 0.36788 0.810957\n"
     ]
    }
   ],
   "source": [
    "# RBFize\n",
    "rbf = RBFize(gamma=1, scale_by_median=False)\n",
    "\n",
    "kl_sym_median = np.median(kl_sym[np.triu_indices_from(kl_sym)])\n",
    "kl_sym2 = kl_sym/kl_sym_median\n",
    "kl_rbf = rbf.fit_transform(kl_sym2)\n",
    "\n",
    "he_sym_median = np.median(he_sym[np.triu_indices_from(he_sym)])\n",
    "he_sym2 = he_sym/he_sym_median\n",
    "he_rbf = rbf.fit_transform(np.nan_to_num(he_sym2))\n",
    "\n",
    "print(kl_rbf.min(), np.median(kl_rbf), kl_rbf.max())\n",
    "print(he_rbf.min(), np.median(he_rbf), he_rbf.max())\n",
    "\n",
    "# ProjectPSD\n",
    "psd = ProjectPSD()\n",
    "kernelKL = psd.fit_transform(kl_rbf)\n",
    "kernelHE = psd.fit_transform(he_rbf)\n",
    "kernelMMD = mmd_sym"
   ]
  },
  {
   "cell_type": "markdown",
   "metadata": {},
   "source": [
    "# Cholesky Factorization"
   ]
  },
  {
   "cell_type": "code",
   "execution_count": null,
   "metadata": {
    "collapsed": true
   },
   "outputs": [],
   "source": [
    "regParam = 1e-3\n",
    "hidimKL = np.linalg.cholesky(kernelKL+(regParam*np.eye(kernelKL.shape[0])))\n",
    "hidimHE = np.linalg.cholesky(kernelHE+(regParam*np.eye(kernelHE.shape[0])))\n",
    "# hidimMMD = np.linalg.cholesky(kernelMMD+(regParam*np.eye(kernelMMD.shape[0])))"
   ]
  },
  {
   "cell_type": "markdown",
   "metadata": {},
   "source": [
    "# TSNE"
   ]
  },
  {
   "cell_type": "code",
   "execution_count": null,
   "metadata": {
    "collapsed": true
   },
   "outputs": [],
   "source": [
    "tsne = manifold.TSNE(n_components=2, init='pca', random_state=0)  # \n",
    "tSNEKL = tsne.fit_transform(hidimKL)   # hidim is the cholesky factorization\n",
    "tSNEHE = tsne.fit_transform(hidimHE)\n",
    "# tSNEMMD = tsne.fit_transform(hidimMMD)"
   ]
  },
  {
   "cell_type": "code",
   "execution_count": null,
   "metadata": {
    "collapsed": false
   },
   "outputs": [],
   "source": [
    "patientsFN = rootPath+\"simulatedSubjects\"\n",
    "# patientsFN = \"/pylon2/ms4s88p/jms565/projects/MNISTSubjects/simulatedSubjects\"\n",
    "subjIds, numAbnormalNodes, loadedFeats = loadSimFeats(patientsFN)"
   ]
  },
  {
   "cell_type": "markdown",
   "metadata": {},
   "source": [
    "# Plot TSNE in 2D"
   ]
  },
  {
   "cell_type": "code",
   "execution_count": null,
   "metadata": {
    "collapsed": false
   },
   "outputs": [],
   "source": [
    "permIdx = np.random.permutation(range(len(subjIds)))\n",
    "N = 2000\n",
    "tSNEKL_subset = tSNEKL[permIdx[:N]]\n",
    "tSNEHE_subset = tSNEHE[permIdx[:N]]\n",
    "tSNEMMD_subset = tSNEMMD[permIdx[:N]]\n",
    "subjClasses_subset = numAbnormalNodes[permIdx[:N]]\n",
    "\n",
    "# Plot KL\n",
    "with sns.axes_style(\"white\"):\n",
    "    f, ax1 = plt.subplots()\n",
    "plotLowDimWithColor(tSNEKL_subset, subjClasses_subset, ax=ax1, plotTitle='tSNE', markerSize=20)\n",
    "ax1.set_xlim([-22,20])\n",
    "ax1.set_ylim([-18,20])\n",
    "ax1.set_title('Embedding of Simulated Subjects Using KL ($d=2$)',fontsize=14)\n",
    "\n",
    "# f.savefig(\"tsne-kl-v1.pdf\", bbox_inches='tight')\n",
    "\n",
    "# Plot HE\n",
    "with sns.axes_style(\"white\"):\n",
    "    f, ax1 = plt.subplots()\n",
    "plotLowDimWithColor(tSNEHE_subset, subjClasses_subset, ax=ax1, plotTitle='tSNE', markerSize=20)\n",
    "ax1.set_xlim([-18,16])\n",
    "ax1.set_ylim([-20,16])\n",
    "ax1.set_title('Embedding of Simulated Subjects Using HE ($d=2$)',fontsize=14)\n",
    "\n",
    "# f.savefig(\"tsne-he-v1.pdf\", bbox_inches='tight')\n",
    "\n",
    "# Plot MMD\n",
    "with sns.axes_style(\"white\"):\n",
    "    f, ax1 = plt.subplots()\n",
    "plotLowDimWithColor(tSNEMMD_subset, subjClasses_subset, ax=ax1, plotTitle='tSNE', markerSize=20)\n",
    "ax1.set_xlim([-15,15])\n",
    "ax1.set_ylim([-20,20])\n",
    "ax1.set_title('Embedding of Simulated Subjects Using MMD$^2$ ($d=2$)',fontsize=14)\n",
    "\n",
    "# f.savefig(\"tsne-mmd-v1.pdf\", bbox_inches='tight')"
   ]
  },
  {
   "cell_type": "markdown",
   "metadata": {},
   "source": [
    "# Now perform LLE to extract higher dimensional features"
   ]
  },
  {
   "cell_type": "code",
   "execution_count": null,
   "metadata": {
    "collapsed": false
   },
   "outputs": [],
   "source": [
    "clf = LocallyLinearEmbedding(n_components=100)\n",
    "LLE_modified_KL = clf.fit_transform(hidimKL)   # this is your X, ie your feature per subject\n",
    "LLE_modified_HE = clf.fit_transform(hidimHE)\n",
    "LLE_modified_MMD = clf.fit_transform(hidimMMD)\n",
    "\n",
    "print(LLE_modified_KL.shape)\n",
    "print(LLE_modified_HE.shape)\n",
    "print(LLE_modified_MMD.shape)"
   ]
  },
  {
   "cell_type": "markdown",
   "metadata": {},
   "source": [
    "# Oh man, next is regression. This is exciting."
   ]
  },
  {
   "cell_type": "code",
   "execution_count": 3,
   "metadata": {
    "collapsed": false
   },
   "outputs": [
    {
     "name": "stdout",
     "output_type": "stream",
     "text": [
      "15\n"
     ]
    }
   ],
   "source": [
    "# ======== Regression\n",
    "numPCA_comp = 60\n",
    "colNameList = []\n",
    "for numDim in range(2,numPCA_comp,4):\n",
    "    colNameList.append(['LLE_modified_f%d'%i for i in range(numDim)])\n",
    "\n",
    "score_r2DictList = {}\n",
    "p_r2DictList = {}\n",
    "accScoreDictList = {}\n",
    "p_accDictList = {}    \n",
    "    \n",
    "featureName = 'histFHOG_largeRange_setting1'\n",
    "score_r2DictList[featureName] = []\n",
    "p_r2DictList[featureName] = []\n",
    "accScoreDictList[featureName] = []\n",
    "p_accDictList[featureName] = []\n",
    "\n",
    "print(len(colNameList))"
   ]
  },
  {
   "cell_type": "code",
   "execution_count": null,
   "metadata": {
    "collapsed": true
   },
   "outputs": [],
   "source": [
    "# Load the raw images to use as features in BOW\n",
    "N = 2000\n",
    "imgRoot = rootPath+\"simulatedImages/S\"\n",
    "subjImages = [loadSimImg(imgRoot+str(i).zfill(4)) for i in xrange(N)]"
   ]
  },
  {
   "cell_type": "code",
   "execution_count": null,
   "metadata": {
    "collapsed": false
   },
   "outputs": [],
   "source": [
    "import time\n",
    "from skl_groups.summaries import BagOfWords\n",
    "from sklearn.cluster import KMeans\n",
    "from sklearn.cross_validation import KFold\n",
    "from sklearn import linear_model\n",
    "from sklearn.preprocessing import StandardScaler\n",
    "from sklearn import metrics\n",
    "\n",
    "\n",
    "for colName in colNameList:\n",
    "    #---------------------  Compute BOW\n",
    "    t0 = time.clock()\n",
    "#     print(\"computing bag of words ......\")\n",
    "#     feats = Features(subjImages)      # here the data is your patient patch data - list of patch features\n",
    "#     bow = BagOfWords(KMeans(n_clusters=len(colName), max_iter=100, n_init=2))\n",
    "#     bowized = bow.fit_transform(feats)\n",
    "#     print(\"Bag of words computed!\")\n",
    "#     print(time.time() - t0)\n",
    "    \n",
    "    X_KL = LLE_modified_KL[:,:len(colName)]\n",
    "    X_HE = LLE_modified_HE[:,:len(colName)]\n",
    "    X_MMD = LLE_modified_MMD[:,:len(colName)]\n",
    "    \n",
    "#     print(\"Shape of bow:\",bowized.shape)\n",
    "#     print(\"Column name:\",colName)\n",
    "#     print(\"Len(colName):\",colName)\n",
    "#     print(\"X_KL.shape:\",X_KL.shape)\n",
    "#     print(\"X_HE.shape:\",X_HE.shape)\n",
    "#     print(\"X_MMD.shape:\", X_MMD.shape)\n",
    "    \n",
    "#     print(\"len(subjImages):\",len(subjImages))\n",
    "#     print(\"len(subjImages[0]):\",len(subjImages[0]))\n",
    "#     print(\"len(subjImages[0][0]):\",len(subjImages[0][0]))\n",
    "\n",
    "    # make a cross-validation object\n",
    "    cv = KFold(n=len(numAbnormalNodes), n_folds=50, shuffle=False, random_state=0)\n",
    "\n",
    "    ### regression\n",
    "    allXy = {}    \n",
    "    yName = 'FEV1pp_utah'    \n",
    "\n",
    "    y = np.asarray(numAbnormalNodes)  # loaded earlier as the number of abnormal nodes in the subject\n",
    "    allXy['Ours-KL'] = (X_KL, y)   # lle_modified\n",
    "    allXy['Ours-HE'] = (X_HE, y)\n",
    "    allXy['Ours-MMD'] = (X_MMD, y)\n",
    "#     allXy['BOW'] = (bowized, y)    # replaced y with subjList\n",
    "\n",
    "\n",
    "    score_r2Dict = {}\n",
    "    p_r2Dict = {}\n",
    "    for k in allXy.keys():         \n",
    "        #clf = linear_model.Ridge(alpha=1)\n",
    "        score_r2Dict[k] = [] \n",
    "        #score_r2Dict[k] = cross_val_score(clf, allXy[k][0], allXy[k][1], cv=50, scoring='r2_score')\n",
    "        print(\"working on \",k, \"....\")\n",
    "        for i, (train, test) in enumerate(cv):\n",
    "            clf = linear_model.Ridge(alpha=1)\n",
    "            r2,s,pred = evalFeatures_Regression(allXy[k][0][train],    # your X (LLE_modified)\n",
    "                                           allXy[k][1][train],    # your y \n",
    "                                           allXy[k][0][test],     # your X\n",
    "                                           allXy[k][1][test],clf) # your y\n",
    "            score_r2Dict[k].append(r2)\n",
    "\n",
    "    # add the results to a list\n",
    "    score_r2DictList[featureName].append(score_r2Dict)\n",
    "#     p_r2DictList[featureName].append(p_r2Dict)\n",
    "#     accScoreDictList[featureName].append(accScoreDict)\n",
    "#     p_accDictList[featureName].append(p_accDict)\n",
    "    \n",
    "\n",
    "resultsRoot = rootPath+'evaluation/'\n",
    "pk.dump(score_r2DictList, open(resultsRoot + \"linReg_score_v4_kl_he_mmd.p\",'wb') )\n",
    "# pk.dump( p_r2DictList, open(resultsRoot + \"/linReg_p_r2DictList.p\",'wb') )\n",
    "# pk.dump( accScoreDictList, open(hellingerRoot + \"/linReg_accScoreDictList.p\",'wb') )\n",
    "# pk.dump( p_accDictList, open(hellingerRoot + \"/linReg_p_accDictList.p\",'wb') )\n",
    "print(\"Finished computing regression!\")"
   ]
  },
  {
   "cell_type": "markdown",
   "metadata": {},
   "source": [
    "# Now need to process the regression results"
   ]
  },
  {
   "cell_type": "code",
   "execution_count": 4,
   "metadata": {
    "collapsed": false
   },
   "outputs": [],
   "source": [
    "# read in the previously saved data\n",
    "# with open(resultsRoot + \"/linReg_score_r2DictList.p\", \"rb\") as f:\n",
    "with open(rootPath + \"evaluation/linReg_score_v4_kl_he_mmd.p\", \"rb\") as f:\n",
    "    scoresDict = pk.load(f)\n",
    "f.close()\n",
    "\n",
    "with open(rootPath + \"evaluation/linReg_score_r2DictList_pix_v3.p\", \"rb\") as f:\n",
    "    bowDict = pk.load(f)\n",
    "f.close()"
   ]
  },
  {
   "cell_type": "code",
   "execution_count": 6,
   "metadata": {
    "collapsed": false
   },
   "outputs": [
    {
     "name": "stdout",
     "output_type": "stream",
     "text": [
      "['histFHOG_largeRange_setting1']\n",
      "['histFHOG_largeRange_setting1']\n",
      "15\n",
      "30\n"
     ]
    }
   ],
   "source": [
    "print(scoresDict.keys())\n",
    "print(bowDict.keys())\n",
    "print(len(scoresDict['histFHOG_largeRange_setting1']))\n",
    "print(len(bowDict['histFHOG_largeRange_setting1']))"
   ]
  },
  {
   "cell_type": "code",
   "execution_count": 13,
   "metadata": {
    "collapsed": false
   },
   "outputs": [
    {
     "name": "stdout",
     "output_type": "stream",
     "text": [
      "[0.72599469965246222, 0.78688741841462939, 0.79652680071310122, 0.79248858302166836, 0.83332785862391157, 0.7486615717960492, 0.76483565692868183, 0.67749016299718923, 0.79558421817668357, 0.74089824637633028, 0.67062293024407105, 0.7150266126263487, 0.70947217888200842, 0.84691552763904254, 0.8726538840733935, 0.7461809362734434, 0.85329740057273096, 0.68632717153167966, 0.76170360516907798, 0.80003699215198609, 0.59140185159822689, 0.89601744190989108, 0.81312348210593766, 0.84950386300179137, 0.82908644989097202, 0.78048722407080395, 0.76806730779342169, 0.6727990004870581, 0.74828887495587937, 0.8285019937342496, 0.80212835449654818, 0.82606430425300492, 0.90199381263235734, 0.84745398076540501, 0.7946695564310815, 0.61837260783998826, 0.85535687146435846, 0.73853916700135391, 0.7925715423240659, 0.81357792540717755, 0.85771095020521881, 0.90515621933846135, 0.75096041359723797, 0.75728866736791911, 0.78243494174976724, 0.69887491066033336, 0.64897767210027835, 0.70918990127211168, 0.85889179666590476, 0.73695126469222538]\n",
      "[0.72599469965246222, 0.78688741841462939, 0.79652680071310122, 0.79248858302166836, 0.83332785862391157, 0.7486615717960492, 0.76483565692868183, 0.67749016299718923, 0.79558421817668357, 0.74089824637633028, 0.67062293024407105, 0.7150266126263487, 0.70947217888200842, 0.84691552763904254, 0.8726538840733935, 0.7461809362734434, 0.85329740057273096, 0.68632717153167966, 0.76170360516907798, 0.80003699215198609, 0.59140185159822689, 0.89601744190989108, 0.81312348210593766, 0.84950386300179137, 0.82908644989097202, 0.78048722407080395, 0.76806730779342169, 0.6727990004870581, 0.74828887495587937, 0.8285019937342496, 0.80212835449654818, 0.82606430425300492, 0.90199381263235734, 0.84745398076540501, 0.7946695564310815, 0.61837260783998826, 0.85535687146435846, 0.73853916700135391, 0.7925715423240659, 0.81357792540717755, 0.85771095020521881, 0.90515621933846135, 0.75096041359723797, 0.75728866736791911, 0.78243494174976724, 0.69887491066033336, 0.64897767210027835, 0.70918990127211168, 0.85889179666590476, 0.73695126469222538]\n"
     ]
    }
   ],
   "source": [
    "print(bowDict['histFHOG_largeRange_setting1'][0]['BOW'])\n",
    "bowList = bowDict['histFHOG_largeRange_setting1']\n",
    "print(bowList[0]['BOW'])"
   ]
  },
  {
   "cell_type": "code",
   "execution_count": 10,
   "metadata": {
    "collapsed": true
   },
   "outputs": [],
   "source": [
    "def confidenceInterval(colNameList, scores):\n",
    "    \"\"\"\n",
    "    Compute the confidence interval of the data\n",
    "    Source: http://stackoverflow.com/questions/27164114/show-confidence-limits-and-prediction-limits-in-scatter-plot\n",
    "    \n",
    "    Inputs:\n",
    "    - x: xAxis data\n",
    "    - y: y axis data\n",
    "    \n",
    "    Returns\n",
    "    - CI: confidence interval\n",
    "    \"\"\"\n",
    "    import scikits.bootstrap as boot\n",
    "    upperlimits  = np.zeros(len(colNameList),)\n",
    "    lowerlimits = np.zeros(len(colNameList),)\n",
    "    r2Mean = np.zeros(len(colNameList),)\n",
    "    halfDelta = np.zeros(len(colNameList),)\n",
    "    for i in range(len(colNameList)):\n",
    "        l,u = boot.ci( np.array(scores), np.mean)\n",
    "        upperlimits[i] = u\n",
    "        lowerlimits[i] = l\n",
    "        r2Mean[i] = (u+l)/2.0\n",
    "        halfDelta[i] = (u-l)/2.0\n",
    "    return np.array(range(2,numPCA_comp,10)), r2Mean, halfDelta"
   ]
  },
  {
   "cell_type": "code",
   "execution_count": 14,
   "metadata": {
    "collapsed": false
   },
   "outputs": [],
   "source": [
    "scoresList = scoresDict['histFHOG_largeRange_setting1']\n",
    "bowList = bowDict['histFHOG_largeRange_setting1']\n",
    "# compute averages for scores\n",
    "xAxis = [len(colNames) for colNames in colNameList]\n",
    "\n",
    "# trying stuff with confidence interval\n",
    "shortScoresMMD = [scoresList[i][\"Ours-MMD\"] for i in xrange(9)]\n",
    "shortScoresKL = [scoresList[i][\"Ours-KL\"] for i in xrange(9)]\n",
    "shortScoresHE = [scoresList[i][\"Ours-HE\"] for i in xrange(9)]\n",
    "shortScoresBOW = [bowList[i]['BOW'] for i in xrange(9)]\n",
    "\n",
    "ciXMMD, rAvgMMD, rStdMMD = confidenceInterval(colNameList[:9], shortScoresMMD)\n",
    "ciXKL, rAvgKL, rStdKL = confidenceInterval(colNameList[:9], shortScoresKL)\n",
    "ciXHE, rAvgHE, rStdHE = confidenceInterval(colNameList[:9], shortScoresHE)\n",
    "ciXBOW, rAvgBOW, rStdBOW = confidenceInterval(colNameList[:9], shortScoresBOW)"
   ]
  },
  {
   "cell_type": "code",
   "execution_count": 8,
   "metadata": {
    "collapsed": false
   },
   "outputs": [
    {
     "name": "stdout",
     "output_type": "stream",
     "text": [
      "[ 0.09065908  0.09115012  0.08929636  0.09167758  0.08822702  0.0889349\n",
      "  0.08837193  0.08925106  0.09565229]\n",
      "[ 0.06776312  0.05561351  0.0554101   0.05534794  0.05534279  0.05514867\n",
      "  0.0552202   0.05511935  0.06817467]\n"
     ]
    }
   ],
   "source": [
    "print(rStdKL)\n",
    "print(rStdHE)"
   ]
  },
  {
   "cell_type": "code",
   "execution_count": 21,
   "metadata": {
    "collapsed": false,
    "scrolled": true
   },
   "outputs": [
    {
     "data": {
      "image/png": "[encoded data removed]",
      "text/plain": [
       "<matplotlib.figure.Figure at 0x7fc847919d10>"
      ]
     },
     "metadata": {},
     "output_type": "display_data"
    }
   ],
   "source": [
    "# Plot scores for divergences\n",
    "# plot the average scores\n",
    "sns.set_style(\"white\") # -- set background white\n",
    "fig = plt.figure()\n",
    "# plt.title(\"Cross Validation\")\n",
    "plt.ylabel(r'$R^2$ (No. Abnormal Patches)', fontsize=15)\n",
    "plt.xlabel(\"Dimensionality of Embedding\", fontsize=15)\n",
    "\n",
    "# add the error bars\n",
    "# l1 = plt.errorbar(xAxis[:9], rAvgKL[:9], rStdKL[:9], fmt='-o', color=sns.palplot(sns.color_palette()[0]), label='KL')\n",
    "# l2 = plt.errorbar(xAxis[:9], rAvgMMD[:9], rStdMMD[:9], fmt='-o', color=sns.dark_palette(\"red\")[-1], label='MMD')\n",
    "# l3 = plt.errorbar(xAxis[:9], rAvgHE[:9], rStdHE[:9], fmt='-o', color=sns.dark_palette(\"purple\")[-1], label='HE')\n",
    "l1 = plt.errorbar(xAxis[:9], rAvgKL[:9], rStdKL[:9], fmt='-o', label='KL')\n",
    "l2 = plt.errorbar(xAxis[:9], rAvgMMD[:9], rStdMMD[:9], fmt='-o', label='MMD')\n",
    "l3 = plt.errorbar(xAxis[:9], rAvgHE[:9], rStdHE[:9], fmt='-o', label='HE')\n",
    "l4 = plt.errorbar(xAxis[:9], rAvgBOW[:9], rStdBOW[:9], fmt='-o', label='BOW')\n",
    "\n",
    "\n",
    "# # add a legend\n",
    "plt.legend(handles=[l1, l3, l2, l4], loc=5, fontsize=15)\n",
    "# plt.ylim(-.2, 1.0)\n",
    "\n",
    "# formatting the plot\n",
    "ax = plt.gca()\n",
    "for tick in ax.xaxis.get_major_ticks():\n",
    "    tick.label.set_fontsize(18) \n",
    "for tick in ax.yaxis.get_major_ticks():\n",
    "    tick.label.set_fontsize(18)\n",
    "\n",
    "# # plot the average p values\n",
    "plt.show()\n",
    "fig.savefig(\"simulated-performance-kl-he-mmd.pdf\", bbox_inches='tight')"
   ]
  },
  {
   "cell_type": "code",
   "execution_count": 15,
   "metadata": {
    "collapsed": false
   },
   "outputs": [
    {
     "ename": "NameError",
     "evalue": "name 'rAvgUs' is not defined",
     "output_type": "error",
     "traceback": [
      "\u001b[1;31m---------------------------------------------------------------------------\u001b[0m",
      "\u001b[1;31mNameError\u001b[0m                                 Traceback (most recent call last)",
      "\u001b[1;32m<ipython-input-15-0378e57db098>\u001b[0m in \u001b[0;36m<module>\u001b[1;34m()\u001b[0m\n\u001b[0;32m      3\u001b[0m \u001b[1;33m\u001b[0m\u001b[0m\n\u001b[0;32m      4\u001b[0m \u001b[1;31m# scores and error bars\u001b[0m\u001b[1;33m\u001b[0m\u001b[1;33m\u001b[0m\u001b[0m\n\u001b[1;32m----> 5\u001b[1;33m \u001b[0ml1\u001b[0m \u001b[1;33m=\u001b[0m \u001b[0mplt\u001b[0m\u001b[1;33m.\u001b[0m\u001b[0merrorbar\u001b[0m\u001b[1;33m(\u001b[0m\u001b[0mxAxis\u001b[0m\u001b[1;33m[\u001b[0m\u001b[1;33m:\u001b[0m\u001b[1;36m9\u001b[0m\u001b[1;33m]\u001b[0m\u001b[1;33m,\u001b[0m \u001b[0mrAvgUs\u001b[0m\u001b[1;33m[\u001b[0m\u001b[1;33m:\u001b[0m\u001b[1;36m9\u001b[0m\u001b[1;33m]\u001b[0m\u001b[1;33m,\u001b[0m \u001b[0mrStdUs\u001b[0m\u001b[1;33m[\u001b[0m\u001b[1;33m:\u001b[0m\u001b[1;36m9\u001b[0m\u001b[1;33m]\u001b[0m\u001b[1;33m,\u001b[0m \u001b[0mfmt\u001b[0m\u001b[1;33m=\u001b[0m\u001b[1;34m'-o'\u001b[0m\u001b[1;33m,\u001b[0m \u001b[0mcolor\u001b[0m\u001b[1;33m=\u001b[0m\u001b[0msns\u001b[0m\u001b[1;33m.\u001b[0m\u001b[0mcolor_palette\u001b[0m\u001b[1;33m(\u001b[0m\u001b[1;33m)\u001b[0m\u001b[1;33m[\u001b[0m\u001b[1;36m0\u001b[0m\u001b[1;33m]\u001b[0m\u001b[1;33m,\u001b[0m \u001b[0mlabel\u001b[0m\u001b[1;33m=\u001b[0m\u001b[1;34m'Ours (KL)'\u001b[0m\u001b[1;33m)\u001b[0m\u001b[1;33m\u001b[0m\u001b[0m\n\u001b[0m\u001b[0;32m      6\u001b[0m \u001b[0ml2\u001b[0m \u001b[1;33m=\u001b[0m \u001b[0mplt\u001b[0m\u001b[1;33m.\u001b[0m\u001b[0merrorbar\u001b[0m\u001b[1;33m(\u001b[0m\u001b[0mxAxis\u001b[0m\u001b[1;33m[\u001b[0m\u001b[1;33m:\u001b[0m\u001b[1;36m9\u001b[0m\u001b[1;33m]\u001b[0m\u001b[1;33m,\u001b[0m \u001b[0mrAvgBOW\u001b[0m\u001b[1;33m[\u001b[0m\u001b[1;33m:\u001b[0m\u001b[1;36m9\u001b[0m\u001b[1;33m]\u001b[0m\u001b[1;33m,\u001b[0m \u001b[0mrStdBOW\u001b[0m\u001b[1;33m[\u001b[0m\u001b[1;33m:\u001b[0m\u001b[1;36m9\u001b[0m\u001b[1;33m]\u001b[0m\u001b[1;33m,\u001b[0m \u001b[0mfmt\u001b[0m\u001b[1;33m=\u001b[0m\u001b[1;34m'-o'\u001b[0m\u001b[1;33m,\u001b[0m \u001b[0mcolor\u001b[0m\u001b[1;33m=\u001b[0m\u001b[0msns\u001b[0m\u001b[1;33m.\u001b[0m\u001b[0mcolor_palette\u001b[0m\u001b[1;33m(\u001b[0m\u001b[1;33m)\u001b[0m\u001b[1;33m[\u001b[0m\u001b[1;36m1\u001b[0m\u001b[1;33m]\u001b[0m\u001b[1;33m,\u001b[0m \u001b[0mlabel\u001b[0m\u001b[1;33m=\u001b[0m\u001b[1;34m'BoW'\u001b[0m\u001b[1;33m)\u001b[0m\u001b[1;33m\u001b[0m\u001b[0m\n\u001b[0;32m      7\u001b[0m \u001b[0mplt\u001b[0m\u001b[1;33m.\u001b[0m\u001b[0mylabel\u001b[0m\u001b[1;33m(\u001b[0m\u001b[1;34mr'$R^2$ (No. Abnormal Patches)'\u001b[0m\u001b[1;33m,\u001b[0m \u001b[0mfontsize\u001b[0m\u001b[1;33m=\u001b[0m\u001b[1;36m15\u001b[0m\u001b[1;33m)\u001b[0m\u001b[1;33m\u001b[0m\u001b[0m\n",
      "\u001b[1;31mNameError\u001b[0m: name 'rAvgUs' is not defined"
     ]
    },
    {
     "data": {
      "text/plain": [
       "<matplotlib.figure.Figure at 0x7f75e08b5b10>"
      ]
     },
     "metadata": {},
     "output_type": "display_data"
    }
   ],
   "source": [
    "# Don't run this, not supported yet! 03/20/2016\n",
    "fig = plt.figure()\n",
    "\n",
    "# scores and error bars\n",
    "l1 = plt.errorbar(xAxis[:9], rAvgUs[:9], rStdUs[:9], fmt='-o', color=sns.color_palette()[0], label='Ours (KL)')\n",
    "l2 = plt.errorbar(xAxis[:9], rAvgBOW[:9], rStdBOW[:9], fmt='-o', color=sns.color_palette()[1], label='BoW')\n",
    "plt.ylabel(r'$R^2$ (No. Abnormal Patches)', fontsize=15)\n",
    "plt.xlabel(\"Dimensionality of Embedding\", fontsize=15)\n",
    "\n",
    "# legend\n",
    "plt.legend(handles=[l1, l2], loc=4, fontsize=15)\n",
    "\n",
    "# formatting the plot\n",
    "ax = plt.gca()\n",
    "for tick in ax.xaxis.get_major_ticks():\n",
    "    tick.label.set_fontsize(18) \n",
    "for tick in ax.yaxis.get_major_ticks():\n",
    "    tick.label.set_fontsize(18)\n",
    "    \n",
    "plt.show()\n",
    "fig.savefig(\"simulated-performance-kl-bow-ci.pdf\", bbox_inches='tight')"
   ]
  },
  {
   "cell_type": "code",
   "execution_count": null,
   "metadata": {
    "collapsed": true
   },
   "outputs": [],
   "source": []
  }
 ],
 "metadata": {
  "kernelspec": {
   "display_name": "Python [Root]",
   "language": "python",
   "name": "Python [Root]"
  },
  "language_info": {
   "codemirror_mode": {
    "name": "ipython",
    "version": 2
   },
   "file_extension": ".py",
   "mimetype": "text/x-python",
   "name": "python",
   "nbconvert_exporter": "python",
   "pygments_lexer": "ipython2",
   "version": "2.7.12"
  }
 },
 "nbformat": 4,
 "nbformat_minor": 0
}
