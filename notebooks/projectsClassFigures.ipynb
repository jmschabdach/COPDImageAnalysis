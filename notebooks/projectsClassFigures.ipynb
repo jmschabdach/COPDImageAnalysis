{
 "cells": [
  {
   "cell_type": "code",
   "execution_count": 4,
   "metadata": {
    "collapsed": false
   },
   "outputs": [],
   "source": [
    "import numpy as np\n",
    "import seaborn as sns\n",
    "import matplotlib.pyplot as plt\n",
    "%matplotlib inline"
   ]
  },
  {
   "cell_type": "markdown",
   "metadata": {},
   "source": [
    "### First figure: mean/confidence intervals of accuracy of the 3 different models (neural networks, random forest, svm)\n",
    "\n",
    "TODO: needs errorbar/confidence interval on it"
   ]
  },
  {
   "cell_type": "code",
   "execution_count": 5,
   "metadata": {
    "collapsed": true
   },
   "outputs": [],
   "source": [
    "N = 50 # these values come from 50 fold cross-validation\n",
    "nnAvgAcc = 0.594903228283\n",
    "svmAvgAcc = 0.374817204301\n",
    "rfAvgAcc = 0.620494623656\n",
    "\n",
    "nnCI = [0.0050792687831308627, 0.0099307041932673312]\n",
    "svmCI = [0.0068050431568844405, 0.013304842389494861]\n",
    "rfCI = [0.0065273438154912315, 0.01276190006220553]\n",
    "\n",
    "nnErr = nnCI[1]-nnCI[0]\n",
    "svmErr = svmCI[1]-svmCI[0]\n",
    "rfErr = rfCI[1]-rfCI[0]\n",
    "\n",
    "               Mean: 0.578817203641\n",
    "Confidence Interval: [0.0076236099320692707, 0.014905258680476537]\n",
    "SVM avg accuracy:\n",
    "               Mean: 0.374817204301\n",
    "Confidence Interval: [0.0068050431568844405, 0.013304842389494861]\n",
    "Random forest avg accuracy:\n",
    "               Mean: 0.61864516129\n",
    "Confidence Interval: [0.0055217787544315508, 0.010795875109630931]\n"
   ]
  },
  {
   "cell_type": "code",
   "execution_count": 8,
   "metadata": {
    "collapsed": false
   },
   "outputs": [
    {
     "data": {
      "image/png": "[encoded data removed]",
      "text/plain": [
       "<matplotlib.figure.Figure at 0x7fae1903c350>"
      ]
     },
     "metadata": {},
     "output_type": "display_data"
    }
   ],
   "source": [
    "sns.set_style(\"white\")\n",
    "fig = plt.figure()\n",
    "plt.bar([0, 0.011, 0.022], [nnAvgAcc, svmAvgAcc, rfAvgAcc], width=.01)\n",
    "       # yerr=[nnErr, svmErr, rfErr], ecolor='k')\n",
    "plt.ylabel('Average Percent Accuracy')\n",
    "plt.xticks(np.arange(.005, .03, .011), ('Neural Network', 'SVM', 'Random Forest'))\n",
    "plt.title('Average Classification Accuracy for 50-Fold Cross Validation')\n",
    "plt.show()\n",
    "fig.savefig('/home/jenna/Research/COPDImageAnalysis/figures/projects_02_avgAccuracy_noErrorbar.pdf')"
   ]
  },
  {
   "cell_type": "code",
   "execution_count": 13,
   "metadata": {
    "collapsed": false
   },
   "outputs": [
    {
     "name": "stdout",
     "output_type": "stream",
     "text": [
      "Loaded the patch classes.\n",
      "['sid', 'type', 'count']\n",
      "Looking at column with header type\n",
      "Classes for 1526 patches have been extracted from the file!\n"
     ]
    }
   ],
   "source": [
    "import pandas as pd\n",
    "from __future__ import print_function\n",
    "\n",
    "# going to figure out the prevalence of the different classes\n",
    "def loadAnnotationClasses(filename):\n",
    "    \"\"\"\n",
    "    Load the classes associated with the labeled patches.\n",
    "\n",
    "    Inputs:\n",
    "    - filename: name of the file to extract labels from\n",
    "\n",
    "    Returns:\n",
    "    - classes: class labels for each patch\n",
    "    - ids: subject ids\n",
    "    - indices: patch mask ids\n",
    "    \"\"\"\n",
    "    # load the .csv file using pandas\n",
    "    dataframe = pd.read_csv(filename)\n",
    "    print('Loaded the patch classes.')\n",
    "    # extract the column header associated with the labels\n",
    "    col = list(dataframe)[1]\n",
    "    print(list(dataframe))\n",
    "    print('Looking at column with header', col)\n",
    "    # extract the label column and convert it to a list\n",
    "    classes = dataframe[col].values.tolist()\n",
    "    # extract the column header associated with the ids\n",
    "    col = list(dataframe)[0]\n",
    "    # extract the id column and convert it to a list\n",
    "    ids = dataframe[col].values.tolist()\n",
    "    # and the patch count\n",
    "    col = list(dataframe)[2]\n",
    "    # extract the count column and convert it to a list\n",
    "    indices = dataframe[col].values.tolist()\n",
    "    # return the list of labels\n",
    "    print('Classes for',len(classes), 'patches have been extracted from the file!')\n",
    "    return classes #, ids, indices\n",
    "\n",
    "rootPath = '/home/jenna/Research/COPDImageAnalysis/annotations/'\n",
    "annotationClassesFn = rootPath + 'data/annotationClasses.csv'\n",
    "\n",
    "classes = loadAnnotationClasses(annotationClassesFn)"
   ]
  },
  {
   "cell_type": "code",
   "execution_count": 16,
   "metadata": {
    "collapsed": false
   },
   "outputs": [
    {
     "name": "stdout",
     "output_type": "stream",
     "text": [
      "['MILDCENTRILOBULAREMPHYSEMA' 'MILDPANLOBULAREMPHYSEMA'\n",
      " 'MILDPARASEPTALEMPHYSEMA' 'MODERATEBULLA' 'MODERATECENTRILOBULAREMPHYSEMA'\n",
      " 'MODERATEPANLOBULAREMPHYSEMA' 'MODERATEPARASEPTALEMPHYSEMA'\n",
      " 'NORMALPARENCHYMA' 'SEVEREBULLA' 'SEVERECENTRILOBULAREMPHYSEMA'\n",
      " 'SEVEREPANLOBULAREMPHYSEMA' 'SEVEREPARASEPTALEMPHYSEMA']\n",
      "12\n",
      "MILDCENTRILOBULAREMPHYSEMA 13.8269986894\n",
      "MILDPANLOBULAREMPHYSEMA 0.917431192661\n",
      "MILDPARASEPTALEMPHYSEMA 6.02883355177\n",
      "MODERATEBULLA 0.131061598952\n",
      "MODERATECENTRILOBULAREMPHYSEMA 18.872870249\n",
      "MODERATEPANLOBULAREMPHYSEMA 4.25950196592\n",
      "MODERATEPARASEPTALEMPHYSEMA 7.27391874181\n",
      "NORMALPARENCHYMA 29.2267365662\n",
      "SEVEREBULLA 0.131061598952\n",
      "SEVERECENTRILOBULAREMPHYSEMA 11.6644823067\n",
      "SEVEREPANLOBULAREMPHYSEMA 5.04587155963\n",
      "SEVEREPARASEPTALEMPHYSEMA 2.62123197903\n"
     ]
    }
   ],
   "source": [
    "uniqueClasses = np.unique(classes)\n",
    "print(uniqueClasses)\n",
    "print(len(uniqueClasses))\n",
    "\n",
    "for u in uniqueClasses:\n",
    "    count = float(classes.count(u))\n",
    "    print(u, count/len(classes)*100.0)"
   ]
  },
  {
   "cell_type": "code",
   "execution_count": null,
   "metadata": {
    "collapsed": true
   },
   "outputs": [],
   "source": []
  }
 ],
 "metadata": {
  "kernelspec": {
   "display_name": "Python [Root]",
   "language": "python",
   "name": "Python [Root]"
  },
  "language_info": {
   "codemirror_mode": {
    "name": "ipython",
    "version": 2
   },
   "file_extension": ".py",
   "mimetype": "text/x-python",
   "name": "python",
   "nbconvert_exporter": "python",
   "pygments_lexer": "ipython2",
   "version": "2.7.12"
  }
 },
 "nbformat": 4,
 "nbformat_minor": 0
}
