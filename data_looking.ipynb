{
 "cells": [
  {
   "cell_type": "code",
   "execution_count": 1,
   "metadata": {
    "collapsed": true
   },
   "outputs": [],
   "source": [
    "import sys\n",
    "import os\n",
    "import numpy as np\n",
    "import pystan\n",
    "\n",
    "# handling different types of data\n",
    "import pandas as pd\n",
    "import pickle as pk\n",
    "import shelve\n",
    "import h5py"
   ]
  },
  {
   "cell_type": "code",
   "execution_count": 2,
   "metadata": {
    "collapsed": false
   },
   "outputs": [
    {
     "name": "stdout",
     "output_type": "stream",
     "text": [
      "pickleFn :  histFHOG_largeRange_setting1.data.p\n",
      "shelveFn : histFHOG_largeRange_setting1.shelve\n",
      "Reading the shelve file ...\n",
      "Done !\n"
     ]
    }
   ],
   "source": [
    "pickleFn =  'histFHOG_largeRange_setting1.data.p'\n",
    "shelveFn = 'histFHOG_largeRange_setting1.shelve'\n",
    "\n",
    "print \"pickleFn : \", pickleFn\n",
    "print \"shelveFn :\", shelveFn\n",
    "\n",
    "\n",
    "# reading pickle and shelve files\n",
    "print \"Reading the shelve file ...\"\n",
    "# tic()\n",
    "fid = shelve.open(shelveFn,'r')\n",
    "metaVoxelDict = fid['metaVoxelDict']\n",
    "#pca = fid['pcaHist']\n",
    "subjList = fid['subjList']\n",
    "phenotypeDB_clean = fid['phenotypeDB_clean']\n",
    "fid.close()\n",
    "print \"Done !\""
   ]
  },
  {
   "cell_type": "code",
   "execution_count": 6,
   "metadata": {
    "collapsed": false
   },
   "outputs": [
    {
     "data": {
      "text/plain": [
       "7292"
      ]
     },
     "execution_count": 6,
     "metadata": {},
     "output_type": "execute_result"
    }
   ],
   "source": [
    "len(metaVoxelDict)"
   ]
  },
  {
   "cell_type": "code",
   "execution_count": 7,
   "metadata": {
    "collapsed": false
   },
   "outputs": [
    {
     "data": {
      "text/plain": [
       "7292"
      ]
     },
     "execution_count": 7,
     "metadata": {},
     "output_type": "execute_result"
    }
   ],
   "source": [
    "len(subjList)"
   ]
  },
  {
   "cell_type": "code",
   "execution_count": 8,
   "metadata": {
    "collapsed": false
   },
   "outputs": [
    {
     "data": {
      "text/plain": [
       "dict"
      ]
     },
     "execution_count": 8,
     "metadata": {},
     "output_type": "execute_result"
    }
   ],
   "source": [
    "type(metaVoxelDict[0])"
   ]
  },
  {
   "cell_type": "code",
   "execution_count": 9,
   "metadata": {
    "collapsed": false
   },
   "outputs": [
    {
     "data": {
      "text/plain": [
       "['fHOGImgFn', 'labelIndex', 'lungImgFn', 'lungMaskFn', 'id', 'superVoxelFn']"
      ]
     },
     "execution_count": 9,
     "metadata": {},
     "output_type": "execute_result"
    }
   ],
   "source": [
    "metaVoxelDict[0].keys()"
   ]
  },
  {
   "cell_type": "code",
   "execution_count": 10,
   "metadata": {
    "collapsed": false
   },
   "outputs": [
    {
     "data": {
      "text/plain": [
       "array([119, 132, 133, 154, 163, 170, 180, 181, 182, 184, 185, 193, 199,\n",
       "       209, 213, 214, 219, 220, 222, 223, 224, 225, 226, 240, 242, 249,\n",
       "       255, 256, 260, 262, 267, 268, 269, 273, 277, 289, 290, 292, 293,\n",
       "       301, 302, 304, 308, 309, 311, 312, 313, 320, 322, 327, 328, 329,\n",
       "       331, 334, 335, 337, 340, 343, 345, 348, 353, 356, 357, 360, 361,\n",
       "       362, 365, 370, 375, 380, 386, 388, 390, 396, 400, 403, 407, 410,\n",
       "       412, 413, 414, 415, 417, 420, 421, 428, 429, 433, 442, 445, 446,\n",
       "       447, 448, 452, 453, 457, 458, 461, 463, 464, 465, 467, 472, 476,\n",
       "       477, 478, 483, 489, 495, 496, 497, 498, 499, 502, 505, 507, 509,\n",
       "       511, 514, 526, 527, 528, 530, 531, 535, 536, 547, 555, 556, 557,\n",
       "       562, 566, 568, 570, 572, 573, 574, 579, 580, 582, 583, 591, 598,\n",
       "       604, 609, 610, 611, 614, 621, 622, 625, 626, 629, 637, 642, 647,\n",
       "       652, 653, 654, 656, 658, 668, 669, 671, 686, 687, 695, 699, 704,\n",
       "       706, 707, 709, 712, 723, 728, 737, 740, 765, 774, 796])"
      ]
     },
     "execution_count": 10,
     "metadata": {},
     "output_type": "execute_result"
    }
   ],
   "source": [
    "metaVoxelDict[0]['labelIndex']"
   ]
  },
  {
   "cell_type": "code",
   "execution_count": 14,
   "metadata": {
    "collapsed": false
   },
   "outputs": [
    {
     "data": {
      "text/plain": [
       "'10160C'"
      ]
     },
     "execution_count": 14,
     "metadata": {},
     "output_type": "execute_result"
    }
   ],
   "source": [
    "metaVoxelDict[81]['id']"
   ]
  },
  {
   "cell_type": "code",
   "execution_count": 13,
   "metadata": {
    "collapsed": false
   },
   "outputs": [
    {
     "data": {
      "text/plain": [
       "'10160C'"
      ]
     },
     "execution_count": 13,
     "metadata": {},
     "output_type": "execute_result"
    }
   ],
   "source": [
    "subjList[81]"
   ]
  },
  {
   "cell_type": "code",
   "execution_count": 16,
   "metadata": {
    "collapsed": false
   },
   "outputs": [
    {
     "name": "stdout",
     "output_type": "stream",
     "text": [
      "lungImgFn: /scratch/users/batmanghelich/COPDGene/phaseII-nii/10160C_INSP_STD_UIA_COPD_BSpline_Iso1.0mm.nii.gz\n",
      "superVoxelFn: /scratch/users/batmanghelich/COPDGene/work/kayhan/Supervoxels/monoSLIC/numSP30mm/10160C_INSP_STD_UIA_COPD_BSpline_Iso1.0mm_SuperVoxel_Param30mm.nii.gz\n",
      "fHOGImgFn: /scratch/users/batmanghelich/COPDGene/work/kayhan/FourierHOG/10160C_INSP_STD_UIA_COPD_BSpline_Iso1.0mm_sigma_smooth5.0_max_band5_nTheta16_nPhi16_FourierHOG.nii.gz\n"
     ]
    }
   ],
   "source": [
    "print \"lungImgFn:\", metaVoxelDict[81]['lungImgFn']\n",
    "print \"superVoxelFn:\", metaVoxelDict[81]['superVoxelFn']\n",
    "print \"fHOGImgFn:\", metaVoxelDict[81]['fHOGImgFn']\n"
   ]
  },
  {
   "cell_type": "code",
   "execution_count": 17,
   "metadata": {
    "collapsed": false
   },
   "outputs": [
    {
     "data": {
      "text/plain": [
       "pandas.core.frame.DataFrame"
      ]
     },
     "execution_count": 17,
     "metadata": {},
     "output_type": "execute_result"
    }
   ],
   "source": [
    "type(phenotypeDB_clean)"
   ]
  },
  {
   "cell_type": "code",
   "execution_count": 20,
   "metadata": {
    "collapsed": false
   },
   "outputs": [
    {
     "data": {
      "text/plain": [
       "(7292, 362)"
      ]
     },
     "execution_count": 20,
     "metadata": {},
     "output_type": "execute_result"
    }
   ],
   "source": [
    "phenotypeDB_clean.shape"
   ]
  },
  {
   "cell_type": "code",
   "execution_count": 21,
   "metadata": {
    "collapsed": false
   },
   "outputs": [
    {
     "data": {
      "text/html": [
       "<div>\n",
       "<table border=\"1\" class=\"dataframe\">\n",
       "  <thead>\n",
       "    <tr style=\"text-align: right;\">\n",
       "      <th></th>\n",
       "      <th>sid</th>\n",
       "      <th>ccenter</th>\n",
       "      <th>distwalked</th>\n",
       "      <th>O2</th>\n",
       "      <th>Walk_Course</th>\n",
       "      <th>Walk_Limit</th>\n",
       "      <th>WalkSymp_BackPain</th>\n",
       "      <th>WalkSymp_JointPain</th>\n",
       "      <th>WalkSymp_Legs_Fatigue</th>\n",
       "      <th>WalkSymp_ShortnessBreath</th>\n",
       "      <th>...</th>\n",
       "      <th>deltaFEV1</th>\n",
       "      <th>deltaFVC</th>\n",
       "      <th>BDR_pct_FEV1</th>\n",
       "      <th>BDR_pct_FVC</th>\n",
       "      <th>BDR</th>\n",
       "      <th>NewGOLD_SGRQ</th>\n",
       "      <th>RandomGroupCode</th>\n",
       "      <th>Pred_FEV1_FVC_LLN</th>\n",
       "      <th>Visit_Year</th>\n",
       "      <th>CT_Scan_Year</th>\n",
       "    </tr>\n",
       "  </thead>\n",
       "  <tbody>\n",
       "    <tr>\n",
       "      <th>0</th>\n",
       "      <td>10002K</td>\n",
       "      <td>BWH</td>\n",
       "      <td>978</td>\n",
       "      <td>0</td>\n",
       "      <td>1</td>\n",
       "      <td>0</td>\n",
       "      <td>NaN</td>\n",
       "      <td>NaN</td>\n",
       "      <td>NaN</td>\n",
       "      <td>NaN</td>\n",
       "      <td>...</td>\n",
       "      <td>-0.021</td>\n",
       "      <td>0.012</td>\n",
       "      <td>-3.4</td>\n",
       "      <td>0.6</td>\n",
       "      <td>0</td>\n",
       "      <td>D1</td>\n",
       "      <td>9</td>\n",
       "      <td>0.68</td>\n",
       "      <td>2007</td>\n",
       "      <td>2007</td>\n",
       "    </tr>\n",
       "    <tr>\n",
       "      <th>1</th>\n",
       "      <td>10004O</td>\n",
       "      <td>BWH</td>\n",
       "      <td>1166</td>\n",
       "      <td>NaN</td>\n",
       "      <td>1</td>\n",
       "      <td>0</td>\n",
       "      <td>NaN</td>\n",
       "      <td>NaN</td>\n",
       "      <td>NaN</td>\n",
       "      <td>NaN</td>\n",
       "      <td>...</td>\n",
       "      <td>0.175</td>\n",
       "      <td>0.159</td>\n",
       "      <td>17.7</td>\n",
       "      <td>5.1</td>\n",
       "      <td>0</td>\n",
       "      <td>D1</td>\n",
       "      <td>7</td>\n",
       "      <td>0.64</td>\n",
       "      <td>2007</td>\n",
       "      <td>2007</td>\n",
       "    </tr>\n",
       "    <tr>\n",
       "      <th>2</th>\n",
       "      <td>10005Q</td>\n",
       "      <td>NJC</td>\n",
       "      <td>1765</td>\n",
       "      <td>0</td>\n",
       "      <td>1</td>\n",
       "      <td>0</td>\n",
       "      <td>NaN</td>\n",
       "      <td>NaN</td>\n",
       "      <td>NaN</td>\n",
       "      <td>NaN</td>\n",
       "      <td>...</td>\n",
       "      <td>-0.257</td>\n",
       "      <td>-0.171</td>\n",
       "      <td>-8.1</td>\n",
       "      <td>-4.3</td>\n",
       "      <td>0</td>\n",
       "      <td>A</td>\n",
       "      <td>5</td>\n",
       "      <td>0.69</td>\n",
       "      <td>2008</td>\n",
       "      <td>2008</td>\n",
       "    </tr>\n",
       "    <tr>\n",
       "      <th>3</th>\n",
       "      <td>10006S</td>\n",
       "      <td>BWH</td>\n",
       "      <td>1147</td>\n",
       "      <td>2</td>\n",
       "      <td>1</td>\n",
       "      <td>0</td>\n",
       "      <td>NaN</td>\n",
       "      <td>NaN</td>\n",
       "      <td>NaN</td>\n",
       "      <td>NaN</td>\n",
       "      <td>...</td>\n",
       "      <td>-0.010</td>\n",
       "      <td>0.174</td>\n",
       "      <td>-0.8</td>\n",
       "      <td>6.1</td>\n",
       "      <td>0</td>\n",
       "      <td>B</td>\n",
       "      <td>10</td>\n",
       "      <td>0.68</td>\n",
       "      <td>2008</td>\n",
       "      <td>2008</td>\n",
       "    </tr>\n",
       "    <tr>\n",
       "      <th>5</th>\n",
       "      <td>10009Y</td>\n",
       "      <td>NJC</td>\n",
       "      <td>1290</td>\n",
       "      <td>0</td>\n",
       "      <td>1</td>\n",
       "      <td>1</td>\n",
       "      <td>0</td>\n",
       "      <td>1</td>\n",
       "      <td>1</td>\n",
       "      <td>0</td>\n",
       "      <td>...</td>\n",
       "      <td>0.206</td>\n",
       "      <td>0.245</td>\n",
       "      <td>12.8</td>\n",
       "      <td>8.3</td>\n",
       "      <td>1</td>\n",
       "      <td>B</td>\n",
       "      <td>7</td>\n",
       "      <td>0.64</td>\n",
       "      <td>2008</td>\n",
       "      <td>2008</td>\n",
       "    </tr>\n",
       "  </tbody>\n",
       "</table>\n",
       "<p>5 rows × 362 columns</p>\n",
       "</div>"
      ],
      "text/plain": [
       "      sid ccenter  distwalked  O2  Walk_Course  Walk_Limit  WalkSymp_BackPain  \\\n",
       "0  10002K     BWH         978   0            1           0                NaN   \n",
       "1  10004O     BWH        1166 NaN            1           0                NaN   \n",
       "2  10005Q     NJC        1765   0            1           0                NaN   \n",
       "3  10006S     BWH        1147   2            1           0                NaN   \n",
       "5  10009Y     NJC        1290   0            1           1                  0   \n",
       "\n",
       "   WalkSymp_JointPain  WalkSymp_Legs_Fatigue  WalkSymp_ShortnessBreath  \\\n",
       "0                 NaN                    NaN                       NaN   \n",
       "1                 NaN                    NaN                       NaN   \n",
       "2                 NaN                    NaN                       NaN   \n",
       "3                 NaN                    NaN                       NaN   \n",
       "5                   1                      1                         0   \n",
       "\n",
       "       ...       deltaFEV1  deltaFVC  BDR_pct_FEV1  BDR_pct_FVC  BDR  \\\n",
       "0      ...          -0.021     0.012          -3.4          0.6    0   \n",
       "1      ...           0.175     0.159          17.7          5.1    0   \n",
       "2      ...          -0.257    -0.171          -8.1         -4.3    0   \n",
       "3      ...          -0.010     0.174          -0.8          6.1    0   \n",
       "5      ...           0.206     0.245          12.8          8.3    1   \n",
       "\n",
       "   NewGOLD_SGRQ  RandomGroupCode  Pred_FEV1_FVC_LLN  Visit_Year  CT_Scan_Year  \n",
       "0            D1                9               0.68        2007          2007  \n",
       "1            D1                7               0.64        2007          2007  \n",
       "2             A                5               0.69        2008          2008  \n",
       "3             B               10               0.68        2008          2008  \n",
       "5             B                7               0.64        2008          2008  \n",
       "\n",
       "[5 rows x 362 columns]"
      ]
     },
     "execution_count": 21,
     "metadata": {},
     "output_type": "execute_result"
    }
   ],
   "source": [
    "phenotypeDB_clean.head()"
   ]
  },
  {
   "cell_type": "code",
   "execution_count": 23,
   "metadata": {
    "collapsed": false
   },
   "outputs": [
    {
     "name": "stdout",
     "output_type": "stream",
     "text": [
      "Index([u'sid', u'ccenter', u'distwalked', u'O2', u'Walk_Course', u'Walk_Limit',\n",
      "       u'WalkSymp_BackPain', u'WalkSymp_JointPain', u'WalkSymp_Legs_Fatigue',\n",
      "       u'WalkSymp_ShortnessBreath',\n",
      "       ...\n",
      "       u'deltaFEV1', u'deltaFVC', u'BDR_pct_FEV1', u'BDR_pct_FVC', u'BDR',\n",
      "       u'NewGOLD_SGRQ', u'RandomGroupCode', u'Pred_FEV1_FVC_LLN',\n",
      "       u'Visit_Year', u'CT_Scan_Year'],\n",
      "      dtype='object', length=362)\n"
     ]
    }
   ],
   "source": [
    "phenotypeDB_clean."
   ]
  },
  {
   "cell_type": "code",
   "execution_count": 24,
   "metadata": {
    "collapsed": false
   },
   "outputs": [
    {
     "name": "stdout",
     "output_type": "stream",
     "text": [
      "Populating the interactive namespace from numpy and matplotlib\n"
     ]
    }
   ],
   "source": [
    "%pylab inline"
   ]
  },
  {
   "cell_type": "code",
   "execution_count": 29,
   "metadata": {
    "collapsed": false
   },
   "outputs": [
    {
     "ename": "ValueError",
     "evalue": "x has only one data point. bins or range kwarg must be given",
     "output_type": "error",
     "traceback": [
      "\u001b[1;31m-------------------------------------------------------\u001b[0m",
      "\u001b[1;31mValueError\u001b[0m            Traceback (most recent call last)",
      "\u001b[1;32m<ipython-input-29-e2cc120854af>\u001b[0m in \u001b[0;36m<module>\u001b[1;34m()\u001b[0m\n\u001b[1;32m----> 1\u001b[1;33m \u001b[0m_\u001b[0m\u001b[1;33m=\u001b[0m \u001b[0mhist\u001b[0m\u001b[1;33m(\u001b[0m\u001b[0mphenotypeDB_clean\u001b[0m\u001b[1;33m.\u001b[0m\u001b[0mFEV1_utah\u001b[0m\u001b[1;33m.\u001b[0m\u001b[0mas_matrix\u001b[0m\u001b[1;33m)\u001b[0m\u001b[1;33m\u001b[0m\u001b[0m\n\u001b[0m",
      "\u001b[1;32m/home/batmanghelich/anaconda2/lib/python2.7/site-packages/matplotlib/pyplot.pyc\u001b[0m in \u001b[0;36mhist\u001b[1;34m(x, bins, range, normed, weights, cumulative, bottom, histtype, align, orientation, rwidth, log, color, label, stacked, hold, **kwargs)\u001b[0m\n\u001b[0;32m   2894\u001b[0m                       \u001b[0mhisttype\u001b[0m\u001b[1;33m=\u001b[0m\u001b[0mhisttype\u001b[0m\u001b[1;33m,\u001b[0m \u001b[0malign\u001b[0m\u001b[1;33m=\u001b[0m\u001b[0malign\u001b[0m\u001b[1;33m,\u001b[0m \u001b[0morientation\u001b[0m\u001b[1;33m=\u001b[0m\u001b[0morientation\u001b[0m\u001b[1;33m,\u001b[0m\u001b[1;33m\u001b[0m\u001b[0m\n\u001b[0;32m   2895\u001b[0m                       \u001b[0mrwidth\u001b[0m\u001b[1;33m=\u001b[0m\u001b[0mrwidth\u001b[0m\u001b[1;33m,\u001b[0m \u001b[0mlog\u001b[0m\u001b[1;33m=\u001b[0m\u001b[0mlog\u001b[0m\u001b[1;33m,\u001b[0m \u001b[0mcolor\u001b[0m\u001b[1;33m=\u001b[0m\u001b[0mcolor\u001b[0m\u001b[1;33m,\u001b[0m \u001b[0mlabel\u001b[0m\u001b[1;33m=\u001b[0m\u001b[0mlabel\u001b[0m\u001b[1;33m,\u001b[0m\u001b[1;33m\u001b[0m\u001b[0m\n\u001b[1;32m-> 2896\u001b[1;33m                       stacked=stacked, **kwargs)\n\u001b[0m\u001b[0;32m   2897\u001b[0m         \u001b[0mdraw_if_interactive\u001b[0m\u001b[1;33m(\u001b[0m\u001b[1;33m)\u001b[0m\u001b[1;33m\u001b[0m\u001b[0m\n\u001b[0;32m   2898\u001b[0m     \u001b[1;32mfinally\u001b[0m\u001b[1;33m:\u001b[0m\u001b[1;33m\u001b[0m\u001b[0m\n",
      "\u001b[1;32m/home/batmanghelich/anaconda2/lib/python2.7/site-packages/matplotlib/axes/_axes.pyc\u001b[0m in \u001b[0;36mhist\u001b[1;34m(self, x, bins, range, normed, weights, cumulative, bottom, histtype, align, orientation, rwidth, log, color, label, stacked, **kwargs)\u001b[0m\n\u001b[0;32m   5598\u001b[0m         \u001b[1;32melif\u001b[0m \u001b[0mlen\u001b[0m\u001b[1;33m(\u001b[0m\u001b[0mflat\u001b[0m\u001b[1;33m)\u001b[0m \u001b[1;33m==\u001b[0m \u001b[1;36m1\u001b[0m \u001b[1;32mand\u001b[0m \u001b[1;32mnot\u001b[0m \u001b[0mbinsgiven\u001b[0m\u001b[1;33m:\u001b[0m\u001b[1;33m\u001b[0m\u001b[0m\n\u001b[0;32m   5599\u001b[0m             raise ValueError(\n\u001b[1;32m-> 5600\u001b[1;33m                 \"x has only one data point. bins or range kwarg must be given\")\n\u001b[0m\u001b[0;32m   5601\u001b[0m \u001b[1;33m\u001b[0m\u001b[0m\n\u001b[0;32m   5602\u001b[0m         \u001b[1;31m# Massage 'x' for processing.\u001b[0m\u001b[1;33m\u001b[0m\u001b[1;33m\u001b[0m\u001b[0m\n",
      "\u001b[1;31mValueError\u001b[0m: x has only one data point. bins or range kwarg must be given"
     ]
    },
    {
     "data": {
      "image/png": "[encoded data removed]",
      "text/plain": [
       "<matplotlib.figure.Figure at 0x2aaaf5201e50>"
      ]
     },
     "metadata": {},
     "output_type": "display_data"
    }
   ],
   "source": [
    "_= hist(phenotypeDB_clean.FEV1_utah.as_matrix)"
   ]
  },
  {
   "cell_type": "code",
   "execution_count": 30,
   "metadata": {
    "collapsed": false
   },
   "outputs": [
    {
     "data": {
      "text/plain": [
       "<matplotlib.axes._subplots.AxesSubplot at 0x2aaaf50ee250>"
      ]
     },
     "execution_count": 30,
     "metadata": {},
     "output_type": "execute_result"
    },
    {
     "data": {
      "image/png": "[encoded data removed]",
      "text/plain": [
       "<matplotlib.figure.Figure at 0x2aaaf51756d0>"
      ]
     },
     "metadata": {},
     "output_type": "display_data"
    }
   ],
   "source": [
    "phenotypeDB_clean.FEV1_utah.hist()"
   ]
  },
  {
   "cell_type": "code",
   "execution_count": 31,
   "metadata": {
    "collapsed": true
   },
   "outputs": [],
   "source": [
    "fid = open(pickleFn,'rb')\n",
    "data = pk.load(open(pickleFn,'rb'))\n",
    "fid.close()\n"
   ]
  },
  {
   "cell_type": "code",
   "execution_count": 32,
   "metadata": {
    "collapsed": false
   },
   "outputs": [
    {
     "data": {
      "text/plain": [
       "list"
      ]
     },
     "execution_count": 32,
     "metadata": {},
     "output_type": "execute_result"
    }
   ],
   "source": [
    "type(data)"
   ]
  },
  {
   "cell_type": "code",
   "execution_count": 33,
   "metadata": {
    "collapsed": false
   },
   "outputs": [
    {
     "data": {
      "text/plain": [
       "7292"
      ]
     },
     "execution_count": 33,
     "metadata": {},
     "output_type": "execute_result"
    }
   ],
   "source": [
    "len(data)"
   ]
  },
  {
   "cell_type": "code",
   "execution_count": 34,
   "metadata": {
    "collapsed": false
   },
   "outputs": [
    {
     "data": {
      "text/plain": [
       "dict"
      ]
     },
     "execution_count": 34,
     "metadata": {},
     "output_type": "execute_result"
    }
   ],
   "source": [
    "type(data[0])"
   ]
  },
  {
   "cell_type": "code",
   "execution_count": 35,
   "metadata": {
    "collapsed": false
   },
   "outputs": [
    {
     "data": {
      "text/plain": [
       "['I', 'G']"
      ]
     },
     "execution_count": 35,
     "metadata": {},
     "output_type": "execute_result"
    }
   ],
   "source": [
    "data[0].keys()"
   ]
  },
  {
   "cell_type": "code",
   "execution_count": 36,
   "metadata": {
    "collapsed": false
   },
   "outputs": [
    {
     "data": {
      "text/plain": [
       "numpy.ndarray"
      ]
     },
     "execution_count": 36,
     "metadata": {},
     "output_type": "execute_result"
    }
   ],
   "source": [
    "type(data[0]['I'])"
   ]
  },
  {
   "cell_type": "code",
   "execution_count": 37,
   "metadata": {
    "collapsed": false
   },
   "outputs": [
    {
     "data": {
      "text/plain": [
       "(180, 63)"
      ]
     },
     "execution_count": 37,
     "metadata": {},
     "output_type": "execute_result"
    }
   ],
   "source": [
    "data[0]['I'].shape"
   ]
  },
  {
   "cell_type": "code",
   "execution_count": 38,
   "metadata": {
    "collapsed": false
   },
   "outputs": [
    {
     "data": {
      "text/plain": [
       "180"
      ]
     },
     "execution_count": 38,
     "metadata": {},
     "output_type": "execute_result"
    }
   ],
   "source": [
    "len(metaVoxelDict[0]['labelIndex'])"
   ]
  },
  {
   "cell_type": "code",
   "execution_count": 39,
   "metadata": {
    "collapsed": false
   },
   "outputs": [
    {
     "data": {
      "text/plain": [
       "array([  1.46233499e-03,   1.53782310e-01,   3.65465181e-01,\n",
       "         2.56975733e-01,   1.21413327e-01,   4.84151450e-02,\n",
       "         2.22512054e-02,   1.26867441e-02,   6.87692673e-03,\n",
       "         4.07082444e-03,   2.60848945e-03,   1.42281243e-03,\n",
       "         1.18567702e-03,   3.16180539e-04,   4.34748241e-04,\n",
       "         3.95225674e-04,   3.95225674e-05,   3.95225674e-05,\n",
       "         3.95225674e-05,   3.95225674e-05,   0.00000000e+00,\n",
       "         3.95225674e-05,   0.00000000e+00,   0.00000000e+00,\n",
       "         0.00000000e+00,   0.00000000e+00,   0.00000000e+00,\n",
       "         0.00000000e+00,   0.00000000e+00,   3.95225674e-05,\n",
       "         0.00000000e+00,   0.00000000e+00,   0.00000000e+00,\n",
       "         0.00000000e+00,   0.00000000e+00,   7.20427104e-01,\n",
       "         3.38437035e-01,   2.24921860e-01,   2.96001482e-01,\n",
       "         3.05409010e-01,   2.99243960e-01,   1.46867791e-02,\n",
       "         1.80501421e-02,   4.20847832e-02,   4.70585546e-02,\n",
       "         3.35823313e-02,   4.50612677e-02,   5.21167773e-02,\n",
       "         5.46524731e-02,   8.14086204e-02,   3.98489782e-02,\n",
       "         5.01771464e-02,   4.35854735e-02,   6.11796990e-02,\n",
       "         6.70609448e-02,   8.52147996e-02,   7.44341803e-03,\n",
       "         1.64874353e-02,   2.32666163e-02,   2.46323405e-02,\n",
       "         2.44207562e-02,   4.23850258e-02,   5.07136167e-03])"
      ]
     },
     "execution_count": 39,
     "metadata": {},
     "output_type": "execute_result"
    }
   ],
   "source": [
    "data[0]['I'][25,]"
   ]
  },
  {
   "cell_type": "code",
   "execution_count": 41,
   "metadata": {
    "collapsed": false
   },
   "outputs": [
    {
     "data": {
      "text/plain": [
       "249"
      ]
     },
     "execution_count": 41,
     "metadata": {},
     "output_type": "execute_result"
    }
   ],
   "source": [
    "metaVoxelDict[0]['labelIndex'][25]"
   ]
  },
  {
   "cell_type": "code",
   "execution_count": null,
   "metadata": {
    "collapsed": true
   },
   "outputs": [],
   "source": []
  }
 ],
 "metadata": {
  "kernelspec": {
   "display_name": "Python [Root]",
   "language": "python",
   "name": "Python [Root]"
  },
  "language_info": {
   "codemirror_mode": {
    "name": "ipython",
    "version": 2
   },
   "file_extension": ".py",
   "mimetype": "text/x-python",
   "name": "python",
   "nbconvert_exporter": "python",
   "pygments_lexer": "ipython2",
   "version": "2.7.12"
  }
 },
 "nbformat": 4,
 "nbformat_minor": 0
}
